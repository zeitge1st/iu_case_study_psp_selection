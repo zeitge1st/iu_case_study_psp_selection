{
 "cells": [
  {
   "cell_type": "markdown",
   "id": "6323f327-c470-42a5-aecc-4b8b68b11973",
   "metadata": {},
   "source": [
    "Fallstudie:<br> \n",
    "**Erstellen eines Prognosemodells des Kreditkartenzahlungsverkehr für Online-Einkäufe**"
   ]
  },
  {
   "cell_type": "code",
   "execution_count": 6,
   "id": "167a0ecb-5f75-47b8-b2dc-06c157506e3b",
   "metadata": {},
   "outputs": [],
   "source": [
    "import pandas as pd\n",
    "pd.option_context('mode.use_inf_as_na', True)\n",
    "pd.set_option('display.max_columns', 100)\n",
    "import warnings\n",
    "warnings.simplefilter(\"ignore\", category=FutureWarning)\n",
    "\n",
    "import datetime as dt\n",
    "import numpy as np\n",
    "import re\n",
    "\n",
    "from matplotlib import pyplot as plt\n",
    "import matplotlib.patches as mpatches\n",
    "import seaborn as sns\n",
    "sns.set(style='darkgrid',)\n",
    "color_pal = sns.color_palette(\"muted\")\n",
    "sns.set_palette(color_pal)\n",
    "sns.set_context(\"paper\")\n",
    "%matplotlib inline\n",
    "# plot dimensions\n",
    "plot_width = 12\n",
    "plot_height = 8\n",
    "palette_success ={0: color_pal[1], 1: color_pal[2]}\n",
    "\n",
    "from sklearn.model_selection import train_test_split"
   ]
  },
  {
   "cell_type": "markdown",
   "id": "27845bea-2fef-4bc9-868f-89a29663c32b",
   "metadata": {},
   "source": [
    "# Training data"
   ]
  },
  {
   "cell_type": "code",
   "execution_count": 8,
   "id": "8276cade-ad1a-46e2-aa75-0eb7dcd3b3f6",
   "metadata": {},
   "outputs": [],
   "source": [
    "df_trx = pd.read_excel(\"../data/03_interim/df_trx_training.xlsx\", sheet_name=\"df_trx\").drop(columns=[\"Unnamed: 0\"])"
   ]
  },
  {
   "cell_type": "code",
   "execution_count": 9,
   "id": "fba8f6c0-7cc1-42a1-adb1-d787e66cde75",
   "metadata": {},
   "outputs": [
    {
     "name": "stdout",
     "output_type": "stream",
     "text": [
      "<class 'pandas.core.frame.DataFrame'>\n",
      "RangeIndex: 37612 entries, 0 to 37611\n",
      "Data columns (total 27 columns):\n",
      " #   Column                     Non-Null Count  Dtype         \n",
      "---  ------                     --------------  -----         \n",
      " 0   x_tmsp                     37612 non-null  datetime64[ns]\n",
      " 1   x_country                  37612 non-null  object        \n",
      " 2   x_amount                   37612 non-null  int64         \n",
      " 3   y_success                  37612 non-null  int64         \n",
      " 4   x_psp                      37612 non-null  object        \n",
      " 5   x_3d_secured               37612 non-null  int64         \n",
      " 6   x_card                     37612 non-null  object        \n",
      " 7   meta_customer_trx_id       37612 non-null  int64         \n",
      " 8   meta_customer_atpt_no      37612 non-null  int64         \n",
      " 9   meta_psp_trx_id            37612 non-null  int64         \n",
      " 10  meta_psp_atpt_no           37612 non-null  int64         \n",
      " 11  x_tmsp_h                   37612 non-null  int64         \n",
      " 12  x_tmsp_wd                  37612 non-null  int64         \n",
      " 13  x_tmsp_day                 37612 non-null  int64         \n",
      " 14  x_tmsp_month               37612 non-null  int64         \n",
      " 15  x_enc_country_Austria      37612 non-null  bool          \n",
      " 16  x_enc_country_Germany      37612 non-null  bool          \n",
      " 17  x_enc_country_Switzerland  37612 non-null  bool          \n",
      " 18  x_enc_psp_Goldcard         37612 non-null  bool          \n",
      " 19  x_enc_psp_Moneycard        37612 non-null  bool          \n",
      " 20  x_enc_psp_Simplecard       37612 non-null  bool          \n",
      " 21  x_enc_psp_UK_Card          37612 non-null  bool          \n",
      " 22  x_enc_3d_secured_0         37612 non-null  bool          \n",
      " 23  x_enc_3d_secured_1         37612 non-null  bool          \n",
      " 24  x_enc_card_Diners          37612 non-null  bool          \n",
      " 25  x_enc_card_Master          37612 non-null  bool          \n",
      " 26  x_enc_card_Visa            37612 non-null  bool          \n",
      "dtypes: bool(12), datetime64[ns](1), int64(11), object(3)\n",
      "memory usage: 4.7+ MB\n"
     ]
    }
   ],
   "source": [
    "df_trx.info()"
   ]
  },
  {
   "cell_type": "code",
   "execution_count": null,
   "id": "f590679a-d589-481e-bcc4-64bfee6c6449",
   "metadata": {},
   "outputs": [],
   "source": [
    "# raw x- and y-variables\n",
    "x_ = [x for x in list(df_trx.columns) if re.match(\"^x_\", x)!=None]\n",
    "y_ = [y for y in list(df_trx.columns) if re.match(\"^y_\", y)!=None]\n",
    "meta_ = [m for m in list(df_trx.columns) if m.find(\"meta_\")!=-1]"
   ]
  },
  {
   "cell_type": "markdown",
   "id": "75dba4fc-54b8-4f6a-9362-955246c6426d",
   "metadata": {},
   "source": [
    "## Train-Test-Split"
   ]
  },
  {
   "cell_type": "markdown",
   "id": "1507a335-d408-430e-82ee-251a3eecb53f",
   "metadata": {},
   "source": [
    "# Models\n",
    "- Logistic regression: Scaling\n",
    "- Naive Bayes\n",
    "- KNN: Normalization\n",
    "- Decision Tree\n",
    "- SVM\n",
    "- Random Forest"
   ]
  },
  {
   "cell_type": "code",
   "execution_count": null,
   "id": "c59f4e38-dafc-4810-a875-585fd5ca1f39",
   "metadata": {},
   "outputs": [],
   "source": []
  }
 ],
 "metadata": {
  "kernelspec": {
   "display_name": "Python 3 (ipykernel)",
   "language": "python",
   "name": "python3"
  },
  "language_info": {
   "codemirror_mode": {
    "name": "ipython",
    "version": 3
   },
   "file_extension": ".py",
   "mimetype": "text/x-python",
   "name": "python",
   "nbconvert_exporter": "python",
   "pygments_lexer": "ipython3",
   "version": "3.12.2"
  }
 },
 "nbformat": 4,
 "nbformat_minor": 5
}
