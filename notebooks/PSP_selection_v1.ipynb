{
 "cells": [
  {
   "attachments": {},
   "cell_type": "markdown",
   "id": "cff66d92-209b-4351-bdf8-a02aa3a0ea59",
   "metadata": {},
   "source": [
    "Fallstudie:<br> \n",
    "**Erstellen eines Prognosemodells des Kreditkartenzahlungsverkehr für Online-Einkäufe**\n"
   ]
  },
  {
   "cell_type": "code",
   "execution_count": 71,
   "id": "6de51f6e-f3ca-402d-a6f6-e299581b3a76",
   "metadata": {},
   "outputs": [],
   "source": [
    "import pandas as pd\n",
    "import numpy as np\n",
    "\n",
    "from matplotlib import pyplot as plt\n",
    "import seaborn as sns\n",
    "sns.set(style='dark',)\n",
    "sns.set_color_codes(palette=\"deep\")\n",
    "sns.set_palette(sns.color_palette(\"rocket\"))\n",
    "\n",
    "%matplotlib inline"
   ]
  },
  {
   "cell_type": "markdown",
   "id": "3c801a80-25d3-4391-bab9-4cabe5976fc8",
   "metadata": {},
   "source": [
    "# Business understanding\n",
    "**Aktuelle Situation:**<br>\n",
    "- Einzelhandelsunternehmen hat Verträge mit 4 versch. payment service provider (PSP) für Online-Kreditkartenzahlungen\n",
    "- Auswahl eines PSPs für eine Überweisung erfolgt auf Basis eines fixen Regelwerks\n",
    "- Ausfallrate an Online-Kreditkartenzahlungen ist hoch\n",
    "- Konsequenz: hohe Kosten für das Unternehmen und unzufriedene Kunden\n",
    "\n",
    "**Geschäftsziele:**<br>\n",
    "- Ablösen des fixen, manuellen Regelwerks durch ein Prognosemodell zur Auswahl eines PSPs für eine Zahlung\n",
    "- Verbesserung der Erfolgsrate der Transaktionen\n",
    "- Reduzierung der Transaktionskosten\n",
    "\n",
    "**Erfolgskriterien:**<br>\n",
    "- höhere Erfolgsrate der Transaktionen\n",
    "- und niedrigere Transaktionskosten gegenüber der aktuellen Situation"
   ]
  },
  {
   "cell_type": "markdown",
   "id": "ed86203a-555f-42c9-beb5-ea1ac79e3c65",
   "metadata": {},
   "source": [
    "# Data understanding"
   ]
  },
  {
   "cell_type": "markdown",
   "id": "0270bfd3-03fd-4948-af8a-83ca2e2ca69a",
   "metadata": {},
   "source": [
    "## Collect initial data\n",
    "**Hauptdatensatz:**<br>\n",
    "Initialer Datensatz vom Januar und Februar 2019 mit den Kreditkartentransaktionen der DACH Länder<br>\n",
    "\n",
    "**Kostendaten:**<br>"
   ]
  },
  {
   "cell_type": "code",
   "execution_count": 2,
   "id": "79f78876-62db-4b7d-a225-583fa26b9f48",
   "metadata": {},
   "outputs": [],
   "source": [
    "# transactions\n",
    "df_t_in = pd.read_excel(\"../data/01_raw/PSP_Jan_Feb_2019.xlsx\").set_index(keys=\"Unnamed: 0\", drop=True)"
   ]
  },
  {
   "cell_type": "code",
   "execution_count": 3,
   "id": "2bf6b98b-f5ec-493b-86bd-632f673a8ae9",
   "metadata": {},
   "outputs": [
    {
     "data": {
      "text/html": [
       "<div>\n",
       "<style scoped>\n",
       "    .dataframe tbody tr th:only-of-type {\n",
       "        vertical-align: middle;\n",
       "    }\n",
       "\n",
       "    .dataframe tbody tr th {\n",
       "        vertical-align: top;\n",
       "    }\n",
       "\n",
       "    .dataframe thead th {\n",
       "        text-align: right;\n",
       "    }\n",
       "</style>\n",
       "<table border=\"1\" class=\"dataframe\">\n",
       "  <thead>\n",
       "    <tr style=\"text-align: right;\">\n",
       "      <th></th>\n",
       "      <th>tmsp</th>\n",
       "      <th>country</th>\n",
       "      <th>amount</th>\n",
       "      <th>success</th>\n",
       "      <th>PSP</th>\n",
       "      <th>3D_secured</th>\n",
       "      <th>card</th>\n",
       "    </tr>\n",
       "    <tr>\n",
       "      <th>Unnamed: 0</th>\n",
       "      <th></th>\n",
       "      <th></th>\n",
       "      <th></th>\n",
       "      <th></th>\n",
       "      <th></th>\n",
       "      <th></th>\n",
       "      <th></th>\n",
       "    </tr>\n",
       "  </thead>\n",
       "  <tbody>\n",
       "    <tr>\n",
       "      <th>0</th>\n",
       "      <td>2019-01-01 00:01:11</td>\n",
       "      <td>Germany</td>\n",
       "      <td>89</td>\n",
       "      <td>0</td>\n",
       "      <td>UK_Card</td>\n",
       "      <td>0</td>\n",
       "      <td>Visa</td>\n",
       "    </tr>\n",
       "    <tr>\n",
       "      <th>1</th>\n",
       "      <td>2019-01-01 00:01:17</td>\n",
       "      <td>Germany</td>\n",
       "      <td>89</td>\n",
       "      <td>1</td>\n",
       "      <td>UK_Card</td>\n",
       "      <td>0</td>\n",
       "      <td>Visa</td>\n",
       "    </tr>\n",
       "    <tr>\n",
       "      <th>2</th>\n",
       "      <td>2019-01-01 00:02:49</td>\n",
       "      <td>Germany</td>\n",
       "      <td>238</td>\n",
       "      <td>0</td>\n",
       "      <td>UK_Card</td>\n",
       "      <td>1</td>\n",
       "      <td>Diners</td>\n",
       "    </tr>\n",
       "    <tr>\n",
       "      <th>3</th>\n",
       "      <td>2019-01-01 00:03:13</td>\n",
       "      <td>Germany</td>\n",
       "      <td>238</td>\n",
       "      <td>1</td>\n",
       "      <td>UK_Card</td>\n",
       "      <td>1</td>\n",
       "      <td>Diners</td>\n",
       "    </tr>\n",
       "    <tr>\n",
       "      <th>4</th>\n",
       "      <td>2019-01-01 00:04:33</td>\n",
       "      <td>Austria</td>\n",
       "      <td>124</td>\n",
       "      <td>0</td>\n",
       "      <td>Simplecard</td>\n",
       "      <td>0</td>\n",
       "      <td>Diners</td>\n",
       "    </tr>\n",
       "  </tbody>\n",
       "</table>\n",
       "</div>"
      ],
      "text/plain": [
       "                          tmsp  country  amount  success         PSP  \\\n",
       "Unnamed: 0                                                             \n",
       "0          2019-01-01 00:01:11  Germany      89        0     UK_Card   \n",
       "1          2019-01-01 00:01:17  Germany      89        1     UK_Card   \n",
       "2          2019-01-01 00:02:49  Germany     238        0     UK_Card   \n",
       "3          2019-01-01 00:03:13  Germany     238        1     UK_Card   \n",
       "4          2019-01-01 00:04:33  Austria     124        0  Simplecard   \n",
       "\n",
       "            3D_secured    card  \n",
       "Unnamed: 0                      \n",
       "0                    0    Visa  \n",
       "1                    0    Visa  \n",
       "2                    1  Diners  \n",
       "3                    1  Diners  \n",
       "4                    0  Diners  "
      ]
     },
     "execution_count": 3,
     "metadata": {},
     "output_type": "execute_result"
    }
   ],
   "source": [
    "df_t_in.head()"
   ]
  },
  {
   "cell_type": "code",
   "execution_count": 4,
   "id": "8869d5a2-3d31-435f-bba5-f98927677992",
   "metadata": {},
   "outputs": [],
   "source": [
    "# cost data\n",
    "cost_dict = {\"PSP_name\": [\"Moneycard\", \"Goldcard\", \"UK_Card\", \"Simplecard\"], \n",
    "             \"fee_success_EUR\": [5, 10, 3, 1], \n",
    "             \"fee_failed_EUR\": [2, 5, 1, 0.5]}\n",
    "df_cost_in = pd.DataFrame(cost_dict, columns=[\"PSP_name\", \"fee_success_EUR\", \"fee_failed_EUR\"])"
   ]
  },
  {
   "cell_type": "code",
   "execution_count": 5,
   "id": "66b6026b-6670-4d60-8264-91ca2d6f087c",
   "metadata": {},
   "outputs": [
    {
     "name": "stdout",
     "output_type": "stream",
     "text": [
      "<class 'pandas.core.frame.DataFrame'>\n",
      "RangeIndex: 4 entries, 0 to 3\n",
      "Data columns (total 3 columns):\n",
      " #   Column           Non-Null Count  Dtype  \n",
      "---  ------           --------------  -----  \n",
      " 0   PSP_name         4 non-null      object \n",
      " 1   fee_success_EUR  4 non-null      int64  \n",
      " 2   fee_failed_EUR   4 non-null      float64\n",
      "dtypes: float64(1), int64(1), object(1)\n",
      "memory usage: 228.0+ bytes\n"
     ]
    }
   ],
   "source": [
    "df_cost_in.info()"
   ]
  },
  {
   "cell_type": "markdown",
   "id": "e19965a3-71be-4b27-9601-f547a7467066",
   "metadata": {},
   "source": [
    "## Describe data\n",
    "6 unabhängige Variablen und 1 Zielvariable (success)<br>\n",
    "Datenformat korrekt erkannt<br>\n",
    "keine fehlenden Werte<br>"
   ]
  },
  {
   "cell_type": "code",
   "execution_count": 6,
   "id": "9c5cc670-467b-4d31-801b-5d56a6f4f44e",
   "metadata": {},
   "outputs": [
    {
     "name": "stdout",
     "output_type": "stream",
     "text": [
      "<class 'pandas.core.frame.DataFrame'>\n",
      "Index: 50410 entries, 0 to 50409\n",
      "Data columns (total 7 columns):\n",
      " #   Column      Non-Null Count  Dtype         \n",
      "---  ------      --------------  -----         \n",
      " 0   tmsp        50410 non-null  datetime64[ns]\n",
      " 1   country     50410 non-null  object        \n",
      " 2   amount      50410 non-null  int64         \n",
      " 3   success     50410 non-null  int64         \n",
      " 4   PSP         50410 non-null  object        \n",
      " 5   3D_secured  50410 non-null  int64         \n",
      " 6   card        50410 non-null  object        \n",
      "dtypes: datetime64[ns](1), int64(3), object(3)\n",
      "memory usage: 3.1+ MB\n"
     ]
    }
   ],
   "source": [
    "df_t_in.info()"
   ]
  },
  {
   "cell_type": "code",
   "execution_count": 7,
   "id": "5d2ac22d-a6d6-4242-b5c4-2032b1b9498d",
   "metadata": {},
   "outputs": [
    {
     "data": {
      "text/html": [
       "<div>\n",
       "<style scoped>\n",
       "    .dataframe tbody tr th:only-of-type {\n",
       "        vertical-align: middle;\n",
       "    }\n",
       "\n",
       "    .dataframe tbody tr th {\n",
       "        vertical-align: top;\n",
       "    }\n",
       "\n",
       "    .dataframe thead th {\n",
       "        text-align: right;\n",
       "    }\n",
       "</style>\n",
       "<table border=\"1\" class=\"dataframe\">\n",
       "  <thead>\n",
       "    <tr style=\"text-align: right;\">\n",
       "      <th></th>\n",
       "      <th>tmsp</th>\n",
       "      <th>amount</th>\n",
       "      <th>success</th>\n",
       "      <th>3D_secured</th>\n",
       "    </tr>\n",
       "  </thead>\n",
       "  <tbody>\n",
       "    <tr>\n",
       "      <th>count</th>\n",
       "      <td>50410</td>\n",
       "      <td>50410.000000</td>\n",
       "      <td>50410.000000</td>\n",
       "      <td>50410.000000</td>\n",
       "    </tr>\n",
       "    <tr>\n",
       "      <th>mean</th>\n",
       "      <td>2019-01-29 16:28:52.923269120</td>\n",
       "      <td>202.395715</td>\n",
       "      <td>0.202896</td>\n",
       "      <td>0.238266</td>\n",
       "    </tr>\n",
       "    <tr>\n",
       "      <th>min</th>\n",
       "      <td>2019-01-01 00:01:11</td>\n",
       "      <td>6.000000</td>\n",
       "      <td>0.000000</td>\n",
       "      <td>0.000000</td>\n",
       "    </tr>\n",
       "    <tr>\n",
       "      <th>25%</th>\n",
       "      <td>2019-01-14 12:00:36.249999872</td>\n",
       "      <td>133.000000</td>\n",
       "      <td>0.000000</td>\n",
       "      <td>0.000000</td>\n",
       "    </tr>\n",
       "    <tr>\n",
       "      <th>50%</th>\n",
       "      <td>2019-01-30 15:20:07.500000</td>\n",
       "      <td>201.000000</td>\n",
       "      <td>0.000000</td>\n",
       "      <td>0.000000</td>\n",
       "    </tr>\n",
       "    <tr>\n",
       "      <th>75%</th>\n",
       "      <td>2019-02-13 01:09:50.500000</td>\n",
       "      <td>269.000000</td>\n",
       "      <td>0.000000</td>\n",
       "      <td>0.000000</td>\n",
       "    </tr>\n",
       "    <tr>\n",
       "      <th>max</th>\n",
       "      <td>2019-02-28 23:48:19</td>\n",
       "      <td>630.000000</td>\n",
       "      <td>1.000000</td>\n",
       "      <td>1.000000</td>\n",
       "    </tr>\n",
       "    <tr>\n",
       "      <th>std</th>\n",
       "      <td>NaN</td>\n",
       "      <td>96.274730</td>\n",
       "      <td>0.402160</td>\n",
       "      <td>0.426027</td>\n",
       "    </tr>\n",
       "  </tbody>\n",
       "</table>\n",
       "</div>"
      ],
      "text/plain": [
       "                                tmsp        amount       success    3D_secured\n",
       "count                          50410  50410.000000  50410.000000  50410.000000\n",
       "mean   2019-01-29 16:28:52.923269120    202.395715      0.202896      0.238266\n",
       "min              2019-01-01 00:01:11      6.000000      0.000000      0.000000\n",
       "25%    2019-01-14 12:00:36.249999872    133.000000      0.000000      0.000000\n",
       "50%       2019-01-30 15:20:07.500000    201.000000      0.000000      0.000000\n",
       "75%       2019-02-13 01:09:50.500000    269.000000      0.000000      0.000000\n",
       "max              2019-02-28 23:48:19    630.000000      1.000000      1.000000\n",
       "std                              NaN     96.274730      0.402160      0.426027"
      ]
     },
     "execution_count": 7,
     "metadata": {},
     "output_type": "execute_result"
    }
   ],
   "source": [
    "df_t_in.describe()"
   ]
  },
  {
   "cell_type": "code",
   "execution_count": 9,
   "id": "46988e08-4812-4a45-9b7c-b6a3a34fc585",
   "metadata": {},
   "outputs": [],
   "source": [
    "# raw x- and y-variables\n",
    "x_raw = [\"tmsp\", \"country\", \"amount\", \"PSP\", \"3d_secured\", \"card\"]\n",
    "y_raw = [\"success\"]"
   ]
  },
  {
   "cell_type": "markdown",
   "id": "f1958739-0cdd-4621-a06f-81e9e43c86cf",
   "metadata": {},
   "source": [
    "## Explore data"
   ]
  },
  {
   "cell_type": "code",
   "execution_count": 69,
   "id": "2571a999-ad6a-46f7-a968-31e8af594fc5",
   "metadata": {},
   "outputs": [],
   "source": [
    "# plot dimensions\n",
    "plot_width = 20\n",
    "plot_height = 6\n",
    "sns.color_palette(\"rocket\")\n",
    "palette_success ={0: \"r\", 1: \"g\"}\n",
    "\n",
    "# masking df_t_in successful and failed\n",
    "mask_success = df_t_in[\"success\"] == 1\n",
    "mask_fail = df_t_in[\"success\"] == 0"
   ]
  },
  {
   "cell_type": "markdown",
   "id": "0da22bef-0d97-4fcf-a7ae-9d1583cb29d5",
   "metadata": {},
   "source": [
    "### Timestamp"
   ]
  },
  {
   "cell_type": "code",
   "execution_count": 72,
   "id": "faad6bad-74bf-462c-95b3-432432276031",
   "metadata": {},
   "outputs": [
    {
     "name": "stderr",
     "output_type": "stream",
     "text": [
      "C:\\Users\\czump\\anaconda3\\envs\\venv_iu_model_engineering\\Lib\\site-packages\\seaborn\\_oldcore.py:1119: FutureWarning: use_inf_as_na option is deprecated and will be removed in a future version. Convert inf values to NaN before operating instead.\n",
      "  with pd.option_context('mode.use_inf_as_na', True):\n"
     ]
    },
    {
     "data": {
      "text/plain": [
       "<Figure size 640x480 with 0 Axes>"
      ]
     },
     "metadata": {},
     "output_type": "display_data"
    },
    {
     "data": {
      "image/png": "[encoded data removed]",
      "text/plain": [
       "<Figure size 672.097x600 with 1 Axes>"
      ]
     },
     "metadata": {},
     "output_type": "display_data"
    }
   ],
   "source": [
    "plt.figure()\n",
    "sns.color_palette(\"rocket\")\n",
    "sns.displot(df_t_in, x=\"tmsp\", hue=\"success\", kind=\"kde\", cut=0, height=plot_height, palette=palette_success)\n",
    "plt.xticks(rotation=45)\n",
    "plt.title(\"Histogram of timestamp\")\n",
    "plt.show()\n",
    "plt.close()"
   ]
  },
  {
   "cell_type": "markdown",
   "id": "d2eb635a-9fdd-4fba-9d25-f7c5a262156f",
   "metadata": {},
   "source": [
    "## Verify data quality"
   ]
  },
  {
   "cell_type": "code",
   "execution_count": null,
   "id": "a3079229-3b95-47d5-b5a8-572ea7e06b1d",
   "metadata": {},
   "outputs": [],
   "source": []
  }
 ],
 "metadata": {
  "kernelspec": {
   "display_name": "Python 3 (ipykernel)",
   "language": "python",
   "name": "python3"
  },
  "language_info": {
   "codemirror_mode": {
    "name": "ipython",
    "version": 3
   },
   "file_extension": ".py",
   "mimetype": "text/x-python",
   "name": "python",
   "nbconvert_exporter": "python",
   "pygments_lexer": "ipython3",
   "version": "3.12.2"
  }
 },
 "nbformat": 4,
 "nbformat_minor": 5
}
