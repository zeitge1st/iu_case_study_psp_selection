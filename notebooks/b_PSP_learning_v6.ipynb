{
 "cells": [
  {
   "cell_type": "markdown",
   "id": "6323f327-c470-42a5-aecc-4b8b68b11973",
   "metadata": {},
   "source": [
    "Fallstudie:<br> \n",
    "**Erstellen eines Prognosemodells des Kreditkartenzahlungsverkehr für Online-Einkäufe**"
   ]
  },
  {
   "cell_type": "markdown",
   "id": "944fa2c8-c490-46ff-b471-8dfe2efeb277",
   "metadata": {},
   "source": [
    "# Import & Helpers"
   ]
  },
  {
   "cell_type": "code",
   "execution_count": 1,
   "id": "b1e1e74e-0d09-436a-8f92-14ee75df9b53",
   "metadata": {},
   "outputs": [],
   "source": [
    "#! mlflow server --host 127.0.0.1 --port 8080"
   ]
  },
  {
   "cell_type": "code",
   "execution_count": 2,
   "id": "167a0ecb-5f75-47b8-b2dc-06c157506e3b",
   "metadata": {},
   "outputs": [],
   "source": [
    "import warnings\n",
    "warnings.filterwarnings(\"ignore\")\n",
    "\n",
    "import pandas as pd\n",
    "pd.option_context('mode.use_inf_as_na', True)\n",
    "pd.set_option('display.max_columns', 100)\n",
    "import warnings\n",
    "warnings.simplefilter(\"ignore\", category=FutureWarning)\n",
    "\n",
    "import datetime as dt\n",
    "import numpy as np\n",
    "import re\n",
    "\n",
    "from matplotlib import pyplot as plt\n",
    "from matplotlib.gridspec import GridSpec\n",
    "import matplotlib.patches as mpatches\n",
    "import seaborn as sns\n",
    "sns.set(style='darkgrid',)\n",
    "color_pal = sns.color_palette(\"muted\")\n",
    "sns.set_palette(color_pal)\n",
    "sns.set_context(\"paper\")\n",
    "%matplotlib inline\n",
    "# plot dimensions\n",
    "plot_width = 12\n",
    "plot_height = 8\n",
    "palette_success ={0: color_pal[1], 1: color_pal[2]}\n",
    "\n",
    "from sklearn.model_selection import train_test_split, RandomizedSearchCV, GridSearchCV\n",
    "from sklearn.pipeline import Pipeline, FeatureUnion\n",
    "from sklearn.preprocessing import MinMaxScaler, OrdinalEncoder\n",
    "from sklearn.compose import make_column_selector, make_column_transformer\n",
    "from sklearn.dummy import DummyClassifier\n",
    "from sklearn.linear_model import LogisticRegression\n",
    "from sklearn.naive_bayes import CategoricalNB\n",
    "from sklearn.neighbors import KNeighborsClassifier\n",
    "from sklearn.tree import DecisionTreeClassifier\n",
    "from sklearn.svm import LinearSVC, SVC\n",
    "from sklearn.discriminant_analysis import LinearDiscriminantAnalysis, QuadraticDiscriminantAnalysis\n",
    "from sklearn.ensemble import RandomForestClassifier, GradientBoostingClassifier, ExtraTreesClassifier\n",
    "from sklearn.metrics import roc_curve, roc_auc_score, precision_score, f1_score, recall_score, make_scorer, brier_score_loss, accuracy_score\n",
    "from sklearn.utils.class_weight import compute_class_weight\n",
    "from sklearn.inspection import permutation_importance\n",
    "from sklearn.calibration import CalibratedClassifierCV, CalibrationDisplay\n",
    "\n",
    "import mlflow\n",
    "from mlflow.models import infer_signature"
   ]
  },
  {
   "cell_type": "code",
   "execution_count": 3,
   "id": "271c4c5e-40b0-4def-bf92-6e67810db034",
   "metadata": {},
   "outputs": [],
   "source": [
    "# parameter\n",
    "rs = 23 # random state\n",
    "\n",
    "# MLflow\n",
    "mlflow.set_tracking_uri(uri=\"http://127.0.0.1:8080\")\n",
    "\n",
    "# date of today as string\n",
    "dt_today = str(dt.date.today())"
   ]
  },
  {
   "cell_type": "markdown",
   "id": "be24b020-f9c4-4fd9-a488-5b84f8348445",
   "metadata": {},
   "source": [
    "## Track model in MFflow"
   ]
  },
  {
   "cell_type": "code",
   "execution_count": 4,
   "id": "b2542783-5c34-46c7-ab32-960fa8a3b515",
   "metadata": {},
   "outputs": [],
   "source": [
    "def track_model(training_info, model, x_test, y_test, y_pred, y_pred_auc, feature_names):\n",
    "    \"\"\"\n",
    "    Logging all relevant information (metrics, parameters and feature importances) of a trained model to MLflow.\n",
    "    Model-specific feature importances is used (if existing) and Permutation Feature Importance.\n",
    "    \"\"\"\n",
    "    # Set a tag as detailed description of run\n",
    "    mlflow.set_tag(\"Training Info\", training_info)\n",
    "    \n",
    "    # Log the hyperparameters\n",
    "    mlflow.log_params(model.get_params())\n",
    "    \n",
    "    # Log the metrics\n",
    "    mlflow.log_metrics({\"AUC\": roc_auc_score(y_test, y_pred_auc), \n",
    "                       \"Precision\": precision_score(y_test, y_pred, zero_division=np.nan), \n",
    "                       \"Recall\": recall_score(y_test, y_pred, zero_division=np.nan), \n",
    "                       \"F1-score\": f1_score(y_test, y_pred, zero_division=np.nan)})\n",
    "     \n",
    "    # check options to find out model-specific FEATURE IMPORTANCES\n",
    "    plot_title = \"No information on feature importances\"\n",
    "    if (hasattr(model, \"feature_importances_\") == True):\n",
    "        feat_imp = model.feature_importances_\n",
    "        plot_title = \"Feature importances\"\n",
    "    elif (hasattr(model, \"coef_\") == True):\n",
    "        feat_imp = model.coef_[0]\n",
    "        plot_title = \"Coefficients\"\n",
    "    else:\n",
    "        feat_imp = len(feature_names) * [0]\n",
    "        print(\"Has NO feature importances\")\n",
    "    \n",
    "    # save feature importance to DF\n",
    "    df_feat_imp = (pd.DataFrame(list(zip(feature_names, feat_imp)), \n",
    "                             columns=[\"Feature\", \"Model_specific_imp\"])\n",
    "                .set_index(\"Feature\"))\n",
    "    \n",
    "    # PERMUTATION FEATURE IMPORTANCE (PFI) \n",
    "    pfi_result = permutation_importance(estimator=model, X=x_test, y=y_test, scoring=\"roc_auc\", random_state=rs, n_repeats=10)\n",
    "    df_pfi = (pd.DataFrame(list(zip(feature_names, pfi_result.importances_mean)), \n",
    "                           columns=[\"Feature\", \"PFI\"])\n",
    "              .set_index(\"Feature\"))\n",
    "    # join both dataframes\n",
    "    df_feat_imp = df_feat_imp.join(df_pfi, how=\"left\").sort_values(\"PFI\", ascending=False).reset_index()\n",
    "    \n",
    "    csv_path = \"artifacts/feature_importance.csv\"\n",
    "    df_feat_imp.to_csv(csv_path, index=True)\n",
    "    mlflow.log_artifact(csv_path, \"feature_importance.csv\")\n",
    "    \n",
    "    # Log plot of feature importance\n",
    "    fig, ax = plt.subplots(1, 2, figsize=(20,10))\n",
    "    sns.barplot(y=\"Feature\", x=\"Model_specific_imp\", data=df_feat_imp, ax=ax[0])\n",
    "    ax[0].set_title(\"Model-specific feature importances\", fontsize=10)\n",
    "    sns.barplot(y=\"Feature\", x=\"PFI\", data=df_feat_imp, ax=ax[1])\n",
    "    ax[1].set_title(\"Permutation feature importances\", fontsize=10)\n",
    "    #plt.title(plot_title)\n",
    "    #plt.xlabel(\"Importance\")\n",
    "    #plt.ylabel(\"Feature\")\n",
    "    plt.subplots_adjust(left=0.2, right=0.95, top=0.9, bottom=0.1, wspace=0.6)\n",
    "    mlflow.log_figure(fig, \"feature_importance.png\")\n",
    "    \n",
    "    \n",
    "    # Infer the model signature\n",
    "    signature = infer_signature(x_train, y_train)\n",
    "    \n",
    "    # Log the model\n",
    "    model_info = mlflow.sklearn.log_model(sk_model=model, \n",
    "                                          artifact_path=\"model_saved\", \n",
    "                                          signature=signature, \n",
    "                                          input_example=x_train.head(5))"
   ]
  },
  {
   "cell_type": "markdown",
   "id": "34c14055-17e1-4764-a4f8-02df9826a1f3",
   "metadata": {},
   "source": [
    "## Training of model"
   ]
  },
  {
   "cell_type": "code",
   "execution_count": 5,
   "id": "982bde87-7e95-42f6-8af3-580654ab0f8c",
   "metadata": {},
   "outputs": [],
   "source": [
    "def train_model(zip_iter, x_train_raw, x_train_numerical, x_test_raw, x_test_numerical, y_train, y_test, features_numerical, exp_name, info_text):\n",
    "    \"\"\"\n",
    "    Iterates over a list of classifiers and parameters to train models. The trained models are tracked in MLflow.\n",
    "    \"\"\"\n",
    "    for n, c, fm in zip_iter:\n",
    "        print(f\"Training and logging of model {n} as classifier {c} with feature mode {fm}\")\n",
    "        if fm == \"raw\":\n",
    "            x_train = x_train_raw\n",
    "            x_test = x_test_raw\n",
    "            feature_names = list(x_train_raw.columns)\n",
    "        else:\n",
    "            x_train = x_train_numerical\n",
    "            x_test = x_test_numerical\n",
    "            feature_names = features_numerical\n",
    "            \n",
    "        # Create a new MLflow Experiment\n",
    "        mlflow.set_experiment(exp_name)\n",
    "        \n",
    "        # Start an MLflow run\n",
    "        run_name = n + \"_\" + exp_name\n",
    "        with mlflow.start_run(run_name=run_name) as run:\n",
    "            training_info = n + \" - \" + info_text\n",
    "            # Training and prediction\n",
    "            model = c\n",
    "            model.fit(x_train, y_train)\n",
    "            y_pred = model.predict(x_test)\n",
    "    \n",
    "            if (hasattr(model, \"decision_function\") == True):\n",
    "                y_pred_auc = model.decision_function(x_test)\n",
    "            else:\n",
    "                y_pred_auc = model.predict_proba(x_test)[:, 1]\n",
    "    \n",
    "            track_model(training_info, model, x_test, y_test, y_pred, y_pred_auc, feature_names)\n",
    "    \n",
    "            run_id = run.info.run_id\n",
    "        \n",
    "        print(f\"For {n}: Run logged in MLflow with {run_id}.\")\n",
    "        print(\"---------------------- \\n\")"
   ]
  },
  {
   "cell_type": "markdown",
   "id": "a33b93d0-0362-4ea6-8138-3d28e0bd16ca",
   "metadata": {},
   "source": [
    "## Hypertune models"
   ]
  },
  {
   "cell_type": "code",
   "execution_count": 6,
   "id": "438e52fa-7237-4b6c-80c9-4a263c091f57",
   "metadata": {},
   "outputs": [],
   "source": [
    "def hp_tune_model(search_mode, zip_iter, \n",
    "                  x_train_raw, x_train_numerical, \n",
    "                  x_test_raw, x_test_numerical, \n",
    "                  y_train, y_test, \n",
    "                  features_numerical, exp_name, info_text):\n",
    "    \"\"\"\n",
    "    Iterates over a list of classifiers and parameters to train models. The trained models are tracked in MLflow.\n",
    "    Choose between RandomSearchCV and GridSearchCV.\n",
    "    search_mode = random/grid\n",
    "    \"\"\"\n",
    "    \n",
    "    # Config RandomizedSearchCV\n",
    "    scorer_auc = make_scorer(roc_auc_score, response_method=[\"predict_proba\", \"decision_function\"])\n",
    "    scorer_precision = make_scorer(precision_score)\n",
    "    scorer_recall = make_scorer(recall_score)\n",
    "    scorer_f1 = make_scorer(f1_score)\n",
    "    \n",
    "    cv_scoring = {\"auc\": scorer_auc, \n",
    "                          \"precision\": scorer_precision, \n",
    "                          \"recall\": scorer_recall, \n",
    "                          \"F1\": scorer_f1}\n",
    "    randomized_iter = 30\n",
    "    cv_folds = 5\n",
    "    rs = 23\n",
    "    \n",
    "    for n, c, p, fm in zip_iter:\n",
    "        print(f\"Training and logging of model {n} as classifier {c} with feature mode {fm}\")\n",
    "        if fm == \"raw\":\n",
    "            x_train = x_train_raw\n",
    "            x_test = x_test_raw\n",
    "            feature_names = list(x_train_raw.columns)\n",
    "        else:\n",
    "            x_train = x_train_numerical\n",
    "            x_test = x_test_numerical\n",
    "            feature_names = features_numerical\n",
    "\n",
    "        # Create a new MLflow Experiment\n",
    "        mlflow.set_experiment(exp_name)\n",
    "    \n",
    "        # Start an MLflow run\n",
    "        run_name = n + \"_BEST_\" + exp_name\n",
    "        with mlflow.start_run(run_name=run_name) as run:\n",
    "            training_info = n + \" - \" + info_text\n",
    "\n",
    "            # RandomizedSearchCV or GridSearchCV\n",
    "            if (search_mode == \"random\"):\n",
    "                random_search = RandomizedSearchCV(c, \n",
    "                                                   param_distributions=p, \n",
    "                                                   n_iter=randomized_iter, \n",
    "                                                   verbose=2, \n",
    "                                                   cv=cv_folds, \n",
    "                                                   scoring=cv_scoring, \n",
    "                                                   refit=\"auc\", \n",
    "                                                   random_state=rs, \n",
    "                                                   error_score=\"raise\")\n",
    "                # Training and prediction\n",
    "                random_search.fit(x_train, y_train)\n",
    "                model_best = random_search.best_estimator_\n",
    "            else:\n",
    "                grid_search = GridSearchCV(c, \n",
    "                                           param_grid=p, \n",
    "                                           scoring=cv_scoring, \n",
    "                                           refit=\"auc\", \n",
    "                                           cv=cv_folds, \n",
    "                                           verbose=2, \n",
    "                                           error_score=\"raise\")\n",
    "                # Training and prediction\n",
    "                grid_search.fit(x_train, y_train)\n",
    "                model_best = grid_search.best_estimator_\n",
    "                \n",
    "            y_pred = model_best.predict(x_test)\n",
    "\n",
    "            if (hasattr(model_best, \"decision_function\") == True):\n",
    "                y_pred_auc = model_best.decision_function(x_test)\n",
    "            else:\n",
    "                y_pred_auc = model_best.predict_proba(x_test)[:, 1]\n",
    "    \n",
    "            track_model(training_info, model_best, x_test, y_test, y_pred, y_pred_auc, feature_names)\n",
    "    \n",
    "            run_id = run.info.run_id\n",
    "        \n",
    "        print(f\"For {n}: Run logged in MLflow with {run_id}.\")\n",
    "        print(\"---------------------- \\n\")"
   ]
  },
  {
   "cell_type": "markdown",
   "id": "27845bea-2fef-4bc9-868f-89a29663c32b",
   "metadata": {},
   "source": [
    "# Data preparation 2"
   ]
  },
  {
   "cell_type": "code",
   "execution_count": 7,
   "id": "8276cade-ad1a-46e2-aa75-0eb7dcd3b3f6",
   "metadata": {},
   "outputs": [],
   "source": [
    "# for TRAINING: load first attempt per customer transaction per PSP\n",
    "df_trx = (pd.read_excel(\"../data/04_processed/df_trx_training.xlsx\", sheet_name=\"df_trx\")\n",
    "          .drop(columns=[\"Unnamed: 0\"])\n",
    "          .rename(columns={\"x_tmsp\":\"meta_tmsp\"}))"
   ]
  },
  {
   "cell_type": "code",
   "execution_count": 8,
   "id": "f590679a-d589-481e-bcc4-64bfee6c6449",
   "metadata": {},
   "outputs": [],
   "source": [
    "# raw x- and y-variables\n",
    "x_ = [x for x in list(df_trx.columns) if re.match(\"^x_\", x)!=None]\n",
    "y_ = [y for y in list(df_trx.columns) if re.match(\"^y_\", y)!=None]\n",
    "meta_ = [m for m in list(df_trx.columns) if m.find(\"meta_\")!=-1]"
   ]
  },
  {
   "cell_type": "code",
   "execution_count": 9,
   "id": "fba8f6c0-7cc1-42a1-adb1-d787e66cde75",
   "metadata": {},
   "outputs": [
    {
     "name": "stdout",
     "output_type": "stream",
     "text": [
      "<class 'pandas.core.frame.DataFrame'>\n",
      "RangeIndex: 37782 entries, 0 to 37781\n",
      "Data columns (total 20 columns):\n",
      " #   Column                     Non-Null Count  Dtype  \n",
      "---  ------                     --------------  -----  \n",
      " 0   x_country                  37782 non-null  object \n",
      " 1   x_amount                   37782 non-null  int64  \n",
      " 2   x_psp                      37782 non-null  object \n",
      " 3   x_3d_secured               37782 non-null  int64  \n",
      " 4   x_card                     37782 non-null  object \n",
      " 5   x_tmsp_wd_str              37782 non-null  object \n",
      " 6   x_tmsp_h_sin               37782 non-null  float64\n",
      " 7   x_tmsp_h_cos               37782 non-null  float64\n",
      " 8   x_tmsp_wd_sin              37782 non-null  float64\n",
      " 9   x_tmsp_wd_cos              37782 non-null  float64\n",
      " 10  x_enc_country_Austria      37782 non-null  bool   \n",
      " 11  x_enc_country_Germany      37782 non-null  bool   \n",
      " 12  x_enc_country_Switzerland  37782 non-null  bool   \n",
      " 13  x_enc_psp_Goldcard         37782 non-null  bool   \n",
      " 14  x_enc_psp_Moneycard        37782 non-null  bool   \n",
      " 15  x_enc_psp_Simplecard       37782 non-null  bool   \n",
      " 16  x_enc_psp_UK_Card          37782 non-null  bool   \n",
      " 17  x_enc_card_Diners          37782 non-null  bool   \n",
      " 18  x_enc_card_Master          37782 non-null  bool   \n",
      " 19  x_enc_card_Visa            37782 non-null  bool   \n",
      "dtypes: bool(10), float64(4), int64(2), object(4)\n",
      "memory usage: 3.2+ MB\n"
     ]
    }
   ],
   "source": [
    "df_trx[x_].info()"
   ]
  },
  {
   "cell_type": "code",
   "execution_count": 10,
   "id": "18a27332-58b1-4663-a273-5609ed7f443c",
   "metadata": {},
   "outputs": [
    {
     "name": "stdout",
     "output_type": "stream",
     "text": [
      "<class 'pandas.core.frame.DataFrame'>\n",
      "RangeIndex: 37782 entries, 0 to 37781\n",
      "Data columns (total 5 columns):\n",
      " #   Column                 Non-Null Count  Dtype         \n",
      "---  ------                 --------------  -----         \n",
      " 0   meta_tmsp              37782 non-null  datetime64[ns]\n",
      " 1   meta_customer_trx_id   37782 non-null  int64         \n",
      " 2   meta_customer_atpt_no  37782 non-null  int64         \n",
      " 3   meta_psp_trx_id        37782 non-null  int64         \n",
      " 4   meta_psp_atpt_no       37782 non-null  int64         \n",
      "dtypes: datetime64[ns](1), int64(4)\n",
      "memory usage: 1.4 MB\n"
     ]
    }
   ],
   "source": [
    "df_trx[meta_].info()"
   ]
  },
  {
   "cell_type": "markdown",
   "id": "d4f6adc2-f46e-49e0-8e5c-e706142357fe",
   "metadata": {},
   "source": [
    "Je nach Modell gibt es 2 Features-Sets:<br>\n",
    "\n",
    "Für Modelle, die numerische Features benötigen: \n",
    "- 16 Features\n",
    "- davon 6 numerische Features, die skaliert werden müssen\n",
    "- und 10 Features vom Typ Boolean, die aus dem One Hot Encoding entstanden sind und als Integer encoded werden<br>\n",
    "\n",
    "Für Modelle, bei denen der Typ der Features egal ist:\n",
    "- 7 Features\n",
    "- davon 2 numerische Features vom Typ Integer\n",
    "- und 5 categorial Features vom Typ Object"
   ]
  },
  {
   "cell_type": "code",
   "execution_count": 11,
   "id": "5577b15c-f507-4777-95ff-9412a035ef57",
   "metadata": {},
   "outputs": [],
   "source": [
    "# categorize features\n",
    "feat_object_native = list(df_trx[x_].select_dtypes(include=\"object\").columns) # original features of type object\n",
    "#feat_object_bool_enc = list(df_trx[x_].select_dtypes(include=\"bool\").columns) # encoded object features as bool\n",
    "feat_num = list(df_trx[x_].select_dtypes(include=\"int\").columns) # numerical features for scaling"
   ]
  },
  {
   "cell_type": "markdown",
   "id": "75dba4fc-54b8-4f6a-9362-955246c6426d",
   "metadata": {},
   "source": [
    "## Train-Test-Split\n",
    "Indirekter Train-Test-Split auf Basis der Customer-Transaction-ID meta_customer_trx_id.<br>\n",
    "Damit wird sichergestellt, dass alle Attempts zu einem Kundenvorgang entweder nur im Trainings- oder nur im Test-Datensatz sind. Damit stehen dann später Versuche mit mehreren PSPs für einen Kundenvorgang zur Evaluierung zur Verfügung."
   ]
  },
  {
   "cell_type": "code",
   "execution_count": 12,
   "id": "16057397-cc6c-4ba5-a29f-ba6a722e10b5",
   "metadata": {},
   "outputs": [],
   "source": [
    "# TRAIN-TEST-SPLIT: shuffle and split by customer_trx_id\n",
    "trx_id_train, trx_id_test  = train_test_split(df_trx[\"meta_customer_trx_id\"].unique(), test_size=0.2, random_state=rs, shuffle=True)\n",
    "\n",
    "# create x- and y-sets\n",
    "x_train = df_trx[df_trx[\"meta_customer_trx_id\"].isin(trx_id_train)].loc[:, x_]\n",
    "x_test = df_trx[df_trx[\"meta_customer_trx_id\"].isin(trx_id_test)].loc[:, x_]\n",
    "y_train = df_trx[df_trx[\"meta_customer_trx_id\"].isin(trx_id_train)].loc[:, y_]\n",
    "y_test = df_trx[df_trx[\"meta_customer_trx_id\"].isin(trx_id_test)].loc[:, y_]\n",
    "# to array/series\n",
    "y_train= y_train.iloc[:, 0]\n",
    "y_test= y_test.iloc[:, 0]"
   ]
  },
  {
   "cell_type": "code",
   "execution_count": 13,
   "id": "81e73c34-85f6-49a8-aa9a-ce52be881c37",
   "metadata": {},
   "outputs": [
    {
     "data": {
      "text/plain": [
       "5392"
      ]
     },
     "execution_count": 13,
     "metadata": {},
     "output_type": "execute_result"
    }
   ],
   "source": [
    "len(trx_id_test)"
   ]
  },
  {
   "cell_type": "code",
   "execution_count": 14,
   "id": "9592c3cd-195e-477f-a3ac-f09e20ba0b7d",
   "metadata": {},
   "outputs": [
    {
     "name": "stdout",
     "output_type": "stream",
     "text": [
      "Trainings data set consists of 30270 records, while the test data set consists of 7512 records.\n"
     ]
    }
   ],
   "source": [
    "train_size = x_train.shape[0]\n",
    "test_size = x_test.shape[0]\n",
    "print(f\"Trainings data set consists of {train_size} records, while the test data set consists of {test_size} records.\")"
   ]
  },
  {
   "cell_type": "markdown",
   "id": "a4a48092-caac-4827-8951-3deba27a6f3e",
   "metadata": {},
   "source": [
    "## Feature Engineering Pipeline"
   ]
  },
  {
   "cell_type": "code",
   "execution_count": 15,
   "id": "a7d1003b-2a87-4888-91fb-0f4b16844fdf",
   "metadata": {},
   "outputs": [],
   "source": [
    "# column transformer for models requiring numerical, scaled input features\n",
    "coltransformer_4numerical = make_column_transformer(\n",
    "    (MinMaxScaler(), make_column_selector(dtype_include=\"number\")), \n",
    "    (OrdinalEncoder(), make_column_selector(dtype_include=\"bool\"))\n",
    ")"
   ]
  },
  {
   "cell_type": "markdown",
   "id": "9480c6ff-fae8-40a2-9d71-154c461845f8",
   "metadata": {},
   "source": [
    "## Features"
   ]
  },
  {
   "cell_type": "code",
   "execution_count": 16,
   "id": "b76340a0-a00d-4b90-b751-5f7d0a13de04",
   "metadata": {},
   "outputs": [],
   "source": [
    "# for model with numerical input\n",
    "coltransformer_4numerical.fit(x_train)\n",
    "x_train_numerical = coltransformer_4numerical.transform(x_train)\n",
    "x_test_numerical = coltransformer_4numerical.transform(x_test)"
   ]
  },
  {
   "cell_type": "code",
   "execution_count": 17,
   "id": "fb872fd1-cf03-4941-8e68-e81a7e5fa952",
   "metadata": {},
   "outputs": [],
   "source": [
    "# names of transformed features\n",
    "transformed_features = coltransformer_4numerical.get_feature_names_out()"
   ]
  },
  {
   "cell_type": "code",
   "execution_count": 18,
   "id": "464ba462-2a14-464c-90e1-9d9728cbe4c6",
   "metadata": {},
   "outputs": [],
   "source": [
    "# for model with raw input\n",
    "x_train_raw = x_train[feat_num + feat_object_native]\n",
    "x_test_raw = x_test[feat_num + feat_object_native]"
   ]
  },
  {
   "cell_type": "markdown",
   "id": "1507a335-d408-430e-82ee-251a3eecb53f",
   "metadata": {},
   "source": [
    "# Modeling no. 1 "
   ]
  },
  {
   "cell_type": "markdown",
   "id": "a0062566-a494-483a-9198-13d6362a7bcc",
   "metadata": {},
   "source": [
    "## Test design\n",
    "Ziele:\n",
    "- erfolgreiche Transaktionen in Abhängigkeit vom PSP (und den anderen Umständen) erkennen\n",
    "- positiv = success\n",
    "- wir müssen dem Kunden einen PSP zuordnen und wollen daher den PSP wählen, der die höchste Erfolgswahrscheinlichkeit hat\n",
    "- keine PSP zu wählen ist keine Option\n",
    "  \n",
    "Vergleich der Modelle:\n",
    "- Wir sind nicht nur an der Klassifikation an sich interessiert, sondern v.a. auch an der Wahrscheinlichkeit für einen Erfolg abhängig von dem PSP. Der Predictor muss keine fixe Vorhersage über Erfolg/Misserfolg treffen, sondern in Abhängigkeit vom PSP die Erfolgswahrscheinlichkeit berechnen (es wird kein Threshold festgelegt).\n",
    "- AUC ist eine Vergleichsmetrik, die unabhängig vom gewählten Threshold ist.\n",
    "\n",
    "Weitere Metriken zur Bewertung der Performance, aber nicht entscheidend:\n",
    "- Precision meiner Vorhersage: keine Falschpositiven, um mehrfache Transaktionsgebühren zu sparen\n",
    "- Recall/TPR/Sensitivity: möglichst viele erfolgreiche Transaktionen vorhersagen, um eine Auswahl an PSPs zu haben, um die Kosten minimieren zu können\n",
    "- F1-Score als harmonisches Mittel"
   ]
  },
  {
   "cell_type": "markdown",
   "id": "f66b4dce-5d41-4aeb-ab9b-7002f0fd611b",
   "metadata": {},
   "source": [
    "## Baseline model\n",
    "2 Strategien kommen in Frage:\n",
    "- most_frequent: macht wenig Sinn, weil dann kein Erfolg vorhergesagt wird, so dass Precision nicht berechnet werden kann. Recall/Sensitity ist ebenfalls = 0\n",
    "- stratified: It generates predictions by respecting the class distribution of the training data. It is different from the “most frequent” strategy as it instead associates a probability with each data point of being the most frequent class label."
   ]
  },
  {
   "cell_type": "code",
   "execution_count": 19,
   "id": "28f5b0aa-b910-49aa-8f56-2a72cf20673a",
   "metadata": {},
   "outputs": [
    {
     "name": "stdout",
     "output_type": "stream",
     "text": [
      "Baseline-model\n",
      "with AUC: 0.50\n",
      "with precision: 0.21\n",
      "with recall: 0.21\n",
      "and F1-score: 0.21\n"
     ]
    }
   ],
   "source": [
    "# Training and prediction\n",
    "baseline_clf = DummyClassifier(strategy=\"stratified\", random_state=rs)\n",
    "baseline_clf.fit(x_train_raw, y_train)\n",
    "\n",
    "y_pred_baseline = baseline_clf.predict(x_test_raw)\n",
    "y_pred_baseline_prob = baseline_clf.predict_proba(x_test_raw)\n",
    "auc = roc_auc_score(y_test, y_pred_baseline_prob[:, 1], average=\"macro\")\n",
    "prec = precision_score(y_test, y_pred_baseline, zero_division=np.nan)\n",
    "recall = recall_score(y_test, y_pred_baseline, zero_division=np.nan)\n",
    "f1 = f1_score(y_test, y_pred_baseline, zero_division=np.nan)\n",
    "\n",
    "print(f\"Baseline-model\")\n",
    "print(f\"with AUC: {auc:.2f}\")\n",
    "print(f\"with precision: {prec:.2f}\")\n",
    "print(f\"with recall: {recall:.2f}\")\n",
    "print(f\"and F1-score: {f1:.2f}\")"
   ]
  },
  {
   "cell_type": "markdown",
   "id": "1bb7fa4d-c415-4de9-a236-96e223866f10",
   "metadata": {},
   "source": [
    "## 1st training of models (w/ class_weights)\n",
    "https://scikit-learn.org/stable/modules/generated/sklearn.dummy.DummyClassifier.html<br>\n",
    "https://scikit-learn.org/stable/modules/generated/sklearn.linear_model.LogisticRegression.html#sklearn.linear_model.LogisticRegression<br>\n",
    "https://scikit-learn.org/stable/modules/generated/sklearn.naive_bayes.CategoricalNB.html#sklearn.naive_bayes.CategoricalNB<br>\n",
    "https://scikit-learn.org/stable/modules/generated/sklearn.neighbors.KNeighborsClassifier.html#sklearn.neighbors.KNeighborsClassifier<br>\n",
    "https://scikit-learn.org/stable/modules/generated/sklearn.tree.DecisionTreeClassifier.html#sklearn-tree-decisiontreeclassifier<br>\n",
    "https://scikit-learn.org/stable/modules/generated/sklearn.svm.LinearSVC.html#sklearn.svm.LinearSVC<br>\n",
    "https://scikit-learn.org/stable/modules/generated/sklearn.discriminant_analysis.LinearDiscriminantAnalysis.html#sklearn.discriminant_analysis.LinearDiscriminantAnalysis<br>\n",
    "https://scikit-learn.org/stable/modules/generated/sklearn.discriminant_analysis.QuadraticDiscriminantAnalysis.html#sklearn.discriminant_analysis.QuadraticDiscriminantAnalysis<br>\n",
    "https://scikit-learn.org/stable/modules/generated/sklearn.ensemble.RandomForestClassifier.html#sklearn-ensemble-randomforestclassifier<br>\n",
    "https://scikit-learn.org/stable/modules/generated/sklearn.ensemble.GradientBoostingClassifier.html#sklearn-ensemble-gradientboostingclassifier<br>\n",
    "https://scikit-learn.org/stable/modules/generated/sklearn.ensemble.ExtraTreesClassifier.html#sklearn.ensemble.ExtraTreesClassifier"
   ]
  },
  {
   "cell_type": "code",
   "execution_count": 20,
   "id": "3e553a5d-e323-40a4-a120-501f32f3616b",
   "metadata": {},
   "outputs": [
    {
     "data": {
      "text/plain": [
       "array([0.6292616, 2.4340624])"
      ]
     },
     "execution_count": 20,
     "metadata": {},
     "output_type": "execute_result"
    }
   ],
   "source": [
    "class_weight = compute_class_weight(class_weight=\"balanced\", classes=np.unique(y_train), y=y_train)\n",
    "class_weight"
   ]
  },
  {
   "cell_type": "code",
   "execution_count": 21,
   "id": "67cdfb47-16cb-427f-9e1e-9157f3c4d573",
   "metadata": {},
   "outputs": [
    {
     "name": "stdout",
     "output_type": "stream",
     "text": [
      "length of clf_names 11 & clf 11 & feat_mode 11\n"
     ]
    }
   ],
   "source": [
    "# collect all models\n",
    "# names\n",
    "first_step_clf_names = [\"Baseline model stratified\", \n",
    "                        \"Logistic Regression\", \n",
    "                        \"Naive Bayes\", \n",
    "                        \"KNN\", \n",
    "                        \"Decision Tree\", \n",
    "                        \"Linear SVM\",  \n",
    "                        \"LDA\", \n",
    "                        \"QDA\",\n",
    "                        \"Random Forest\", \n",
    "                        \"Gradient Boosting\", \n",
    "                        \"Extra Trees\"]\n",
    "\n",
    "# configure random see\n",
    "params_rs = {\"random_state\": rs}\n",
    "\n",
    "# sklearn models\n",
    "first_step_clf = [DummyClassifier(strategy=\"stratified\", **params_rs), \n",
    "                  LogisticRegression(class_weight=\"balanced\", penalty=None, **params_rs), \n",
    "                  CategoricalNB(), \n",
    "                  KNeighborsClassifier(), \n",
    "                  DecisionTreeClassifier(class_weight=\"balanced\", **params_rs),\n",
    "                  LinearSVC(class_weight=\"balanced\", **params_rs),\n",
    "                  LinearDiscriminantAnalysis(), \n",
    "                  QuadraticDiscriminantAnalysis(),\n",
    "                  RandomForestClassifier(class_weight=\"balanced_subsample\", **params_rs), \n",
    "                  GradientBoostingClassifier(**params_rs), \n",
    "                  ExtraTreesClassifier(class_weight=\"balanced_subsample\", **params_rs)]\n",
    "\n",
    "# feature mode for model\n",
    "first_step_feat_mode = [\"raw\", \n",
    "                        \"numeric\", \n",
    "                        \"numeric\", \n",
    "                        \"numeric\", \n",
    "                        \"numeric\", \n",
    "                        \"numeric\", \n",
    "                        \"numeric\", \n",
    "                        \"numeric\", \n",
    "                        \"numeric\", \n",
    "                        \"numeric\", \n",
    "                        \"numeric\"]\n",
    "\n",
    "first_step_zip = zip(first_step_clf_names, first_step_clf, first_step_feat_mode)\n",
    "print(f\"length of clf_names {len(first_step_clf_names)} & clf {len(first_step_clf)} & feat_mode {len(first_step_feat_mode)}\")"
   ]
  },
  {
   "cell_type": "code",
   "execution_count": 22,
   "id": "f0902b09-59e7-4290-9ca8-e895a2b04162",
   "metadata": {
    "scrolled": true
   },
   "outputs": [
    {
     "data": {
      "text/plain": [
       "'train_model(zip_iter=first_step_zip, \\n            x_train_raw=x_train_raw, x_train_numerical=x_train_numerical, \\n            x_test_raw=x_test_raw, x_test_numerical=x_test_numerical, \\n            y_train=y_train, y_test=y_test,\\n            features_numerical=transformed_features, \\n            exp_name=first_exp, info_text=first_info)'"
      ]
     },
     "execution_count": 22,
     "metadata": {},
     "output_type": "execute_result"
    }
   ],
   "source": [
    "first_exp = \"PSP_1b_w/_class_weights\"\n",
    "first_info = \"1. Training for comparison of models WITH hyperparameter tuning\"\n",
    "\"\"\"train_model(zip_iter=first_step_zip, \n",
    "            x_train_raw=x_train_raw, x_train_numerical=x_train_numerical, \n",
    "            x_test_raw=x_test_raw, x_test_numerical=x_test_numerical, \n",
    "            y_train=y_train, y_test=y_test,\n",
    "            features_numerical=transformed_features, \n",
    "            exp_name=first_exp, info_text=first_info)\"\"\""
   ]
  },
  {
   "cell_type": "markdown",
   "id": "2836147a-4de5-4497-9449-a21d6eec42c0",
   "metadata": {},
   "source": [
    "## Evaluate & understand 1st model training\n",
    "\n",
    "Features with lowest performance:\n",
    "- Country: Austria, Germany, Switzerland\n",
    "- Working day"
   ]
  },
  {
   "cell_type": "markdown",
   "id": "8fa54559-4e63-4ff6-9ede-2bb083ef8a05",
   "metadata": {},
   "source": [
    "# Modeling no. 2: Remove least important features and models with lowest performance"
   ]
  },
  {
   "cell_type": "markdown",
   "id": "10db5dc4-c288-408c-a2b4-bdab5b67188d",
   "metadata": {},
   "source": [
    "## Drop features"
   ]
  },
  {
   "cell_type": "code",
   "execution_count": 23,
   "id": "88d05713-2909-4529-97f4-e96efd62c13c",
   "metadata": {},
   "outputs": [],
   "source": [
    "# LIGHT set for raw features\n",
    "x_train_raw_light = x_train_raw.drop(columns=[\"x_tmsp_wd_str\", \"x_country\"])\n",
    "x_test_raw_light = x_test_raw.drop(columns=[\"x_tmsp_wd_str\", \"x_country\"])"
   ]
  },
  {
   "cell_type": "code",
   "execution_count": 24,
   "id": "59ae8e4c-ea61-400b-b30a-fc4f5fedeb0c",
   "metadata": {},
   "outputs": [],
   "source": [
    "# columns to remove in numerical input\n",
    "index_to_drop = [list(transformed_features).index(i) for i in transformed_features if (i.find(\"_country_\")!=-1) or (i.find(\"_wd_\")!=-1)]\n",
    "\n",
    "# LIGHT set for model with numerical input\n",
    "features_light = np.delete(transformed_features, index_to_drop, 0)\n",
    "x_train_numerical_light = np.delete(x_train_numerical, index_to_drop, 1)\n",
    "x_test_numerical_light = np.delete(x_test_numerical, index_to_drop, 1)"
   ]
  },
  {
   "cell_type": "markdown",
   "id": "1860da32-94dc-4f82-b3c9-31b4d098ccef",
   "metadata": {},
   "source": [
    "## Training of models"
   ]
  },
  {
   "cell_type": "code",
   "execution_count": 25,
   "id": "be0776d5-c16a-4d04-860a-22b477b610c8",
   "metadata": {},
   "outputs": [
    {
     "name": "stdout",
     "output_type": "stream",
     "text": [
      "length of clf_names 11 & clf 11 & feat_mode 11\n"
     ]
    }
   ],
   "source": [
    "# collect all models\n",
    "# names\n",
    "second_step_clf_names = [\"Baseline model stratified\", \n",
    "                        \"Logistic Regression\", \n",
    "                        \"Naive Bayes\", \n",
    "                        \"KNN\", \n",
    "                        \"Decision Tree\", \n",
    "                        \"Linear SVM\",   \n",
    "                        \"LDA\", \n",
    "                        \"QDA\",\n",
    "                        \"Random Forest\", \n",
    "                        \"Gradient Boosting\", \n",
    "                        \"Extra Trees\"]\n",
    "\n",
    "# sklearn models\n",
    "second_step_clf = [DummyClassifier(strategy=\"stratified\", **params_rs), \n",
    "                  LogisticRegression(class_weight=\"balanced\", penalty=None, **params_rs), \n",
    "                  CategoricalNB(), \n",
    "                  KNeighborsClassifier(), \n",
    "                  DecisionTreeClassifier(class_weight=\"balanced\", **params_rs),\n",
    "                  LinearSVC(class_weight=\"balanced\", **params_rs),\n",
    "                  LinearDiscriminantAnalysis(), \n",
    "                  QuadraticDiscriminantAnalysis(),\n",
    "                  RandomForestClassifier(class_weight=\"balanced_subsample\", **params_rs), \n",
    "                  GradientBoostingClassifier(**params_rs), \n",
    "                  ExtraTreesClassifier(class_weight=\"balanced_subsample\", **params_rs)]\n",
    "\n",
    "# feature mode for model\n",
    "second_step_feat_mode = [\"raw\", \n",
    "                        \"numeric\", \n",
    "                        \"numeric\", \n",
    "                        \"numeric\", \n",
    "                        \"numeric\", \n",
    "                        \"numeric\", \n",
    "                        \"numeric\", \n",
    "                        \"numeric\", \n",
    "                        \"numeric\", \n",
    "                        \"numeric\", \n",
    "                        \"numeric\"]\n",
    "\n",
    "second_step_zip = zip(second_step_clf_names, second_step_clf, second_step_feat_mode)\n",
    "print(f\"length of clf_names {len(second_step_clf_names)} & clf {len(second_step_clf)} & feat_mode {len(second_step_feat_mode)}\")"
   ]
  },
  {
   "cell_type": "code",
   "execution_count": 26,
   "id": "e14a83ef-b63a-4382-9674-84956dcc6b30",
   "metadata": {},
   "outputs": [
    {
     "data": {
      "text/plain": [
       "'train_model(zip_iter=second_step_zip, \\n            x_train_raw=x_train_raw_light, x_train_numerical=x_train_numerical_light, \\n            x_test_raw=x_test_raw_light, x_test_numerical=x_test_numerical_light, \\n            y_train=y_train, y_test=y_test,\\n            features_numerical=features_light, \\n            exp_name=second_exp, info_text=second_info)'"
      ]
     },
     "execution_count": 26,
     "metadata": {},
     "output_type": "execute_result"
    }
   ],
   "source": [
    "second_exp = \"PSP_2b_w/_class_weights\"\n",
    "second_info = \"2. Training of models w/ REDUCED features set &  WITHOUT hyperparameter tuning\"\n",
    "\"\"\"train_model(zip_iter=second_step_zip, \n",
    "            x_train_raw=x_train_raw_light, x_train_numerical=x_train_numerical_light, \n",
    "            x_test_raw=x_test_raw_light, x_test_numerical=x_test_numerical_light, \n",
    "            y_train=y_train, y_test=y_test,\n",
    "            features_numerical=features_light, \n",
    "            exp_name=second_exp, info_text=second_info)\"\"\""
   ]
  },
  {
   "cell_type": "markdown",
   "id": "702a78e4-c49f-487a-af10-e4d32a3f87d0",
   "metadata": {},
   "source": [
    "# Modeling no. 3: Random search for hyperparameter tuning\n",
    "Remove:\n",
    "- Dummy\n",
    "- Naive Bayes due to low optimization potential\n",
    "- KNN due to high computing effort"
   ]
  },
  {
   "cell_type": "code",
   "execution_count": 27,
   "id": "59c9f08f-dc57-4e60-8f10-bf471d1dedf9",
   "metadata": {},
   "outputs": [
    {
     "name": "stdout",
     "output_type": "stream",
     "text": [
      "length of clf_names 8 & clf 8 & parameters 8 & feat_mode 8\n"
     ]
    }
   ],
   "source": [
    "# collect all models\n",
    "# names\n",
    "third_clf_names = [\"Logistic Regression\", \n",
    "                    \"Decision Tree\", \n",
    "                    \"Linear SVM\",  \n",
    "                    \"LDA\", \n",
    "                    \"QDA\",\n",
    "                    \"Random Forest\", \n",
    "                    \"Gradient Boosting\", \n",
    "                    \"Extra Trees\"]\n",
    "\n",
    "# configure parameters per model\n",
    "hp_baseline = {\"strategy\": [\"most_frequent\", \"stratified\"]}\n",
    "hp_qda = {\"reg_param\": np.arange(0, 1.01, 0.1)}\n",
    "hp_lda = {\"shrinkage\": [None, \"auto\"]}\n",
    "hp_lr = {\"penalty\": [\"l1\", \"l2\", \"elasticnet\", None], \n",
    "         \"C\": np.arange(0.01, 10, 0.1), \n",
    "         \"l1_ratio\": np.arange(0.1, 1.01, 0.1)}\n",
    "hp_knn = {\"n_neighbors\": np.arange(5, 75, 2), \n",
    "          \"weights\": [\"uniform\", \"distance\"], \n",
    "          \"algorithm\": [\"ball_tree\", \"kd_tree\", \"brute\"], \n",
    "          \"p\": np.arange(1, 3.0, 0.1)}\n",
    "hp_dt = {\"criterion\": [\"gini\", \"entropy\", \"log_loss\"], \n",
    "         \"splitter\": [\"best\", \"random\"], \n",
    "         \"max_depth\": np.arange(2, 52, 2), \n",
    "         \"min_samples_split\": np.arange(2, 52, 2), \n",
    "         \"min_samples_leaf\": np.arange(1, 32, 2)}\n",
    "hp_lin_svm = {\"penalty\": [\"l1\", \"l2\"], \n",
    "              \"C\": np.arange(0, 15, 0.5)}\n",
    "hp_rf = {\"n_estimators\": np.arange(10, 300, 20), \n",
    "         \"criterion\": [\"gini\", \"entropy\", \"log_loss\"], \n",
    "         \"max_depth\": np.arange(2, 60, 2), \n",
    "         \"min_samples_split\": np.arange(2, 50, 2), \n",
    "         \"min_samples_leaf\": np.arange(1, 30, 2), \n",
    "         \"max_features\": [None, \"sqrt\", \"log2\"]}\n",
    "hp_grad_boost = {\"loss\": [\"log_loss\", \"exponential\"], \n",
    "                 \"learning_rate\":np.arange(0.1, 1.5, 0.1), \n",
    "                 \"subsample\": np.arange(0.3, 0.99, 0.1), \n",
    "                 \"criterion\": [\"friedman_mse\", \"squared_error\"], \n",
    "                 \"min_samples_split\": np.arange(2, 50, 2), \n",
    "                 \"min_samples_leaf\": np.arange(1, 30, 2), \n",
    "                 \"max_depth\": np.arange(2, 20, 1), \n",
    "                 \"max_features\": [None, \"sqrt\", \"log2\"]}\n",
    "hp_extra = {\"criterion\": [\"gini\", \"entropy\", \"log_loss\"], \n",
    "            \"max_depth\": np.arange(2, 60, 2), \n",
    "            \"min_samples_split\": np.arange(2, 52, 2), \n",
    "            \"min_samples_leaf\": np.arange(1, 32, 2), \n",
    "            \"max_features\": [None, \"sqrt\", \"log2\"], \n",
    "            \"min_weight_fraction_leaf\": np.arange(0, 0.5, 0.1), \n",
    "            \"bootstrap\": [True, False]}\n",
    "\n",
    "# parameters collected\n",
    "third_params = [hp_lr, hp_dt, hp_lin_svm, hp_lda, hp_qda, hp_rf, hp_grad_boost, hp_extra]\n",
    "\n",
    "# sklearn models\n",
    "third_clf = [LogisticRegression(solver=\"saga\", class_weight=\"balanced\", **params_rs),  \n",
    "              DecisionTreeClassifier(class_weight=\"balanced\", **params_rs),\n",
    "              LinearSVC(dual=\"auto\", class_weight=\"balanced\", **params_rs), \n",
    "              LinearDiscriminantAnalysis(solver=\"lsqr\"), \n",
    "              QuadraticDiscriminantAnalysis(),\n",
    "              RandomForestClassifier(class_weight=\"balanced_subsample\", **params_rs), \n",
    "              GradientBoostingClassifier(**params_rs), \n",
    "              ExtraTreesClassifier(class_weight=\"balanced_subsample\", **params_rs)]\n",
    "\n",
    "# feature mode for model\n",
    "third_feat_mode = [\"numeric\", \n",
    "                    \"numeric\", \n",
    "                    \"numeric\", \n",
    "                    \"numeric\", \n",
    "                    \"numeric\", \n",
    "                    \"numeric\", \n",
    "                    \"numeric\", \n",
    "                    \"numeric\"]\n",
    "\n",
    "third_zip = zip(third_clf_names, third_clf, third_params, third_feat_mode)\n",
    "print(f\"length of clf_names {len(third_clf_names)} & clf {len(third_clf)} & parameters {len(third_params)} & feat_mode {len(third_feat_mode)}\")"
   ]
  },
  {
   "cell_type": "code",
   "execution_count": 28,
   "id": "24b4427e-0800-4cef-8b99-0efe3db6c1b7",
   "metadata": {
    "scrolled": true
   },
   "outputs": [
    {
     "data": {
      "text/plain": [
       "'hp_tune_model(search_mode=\"random\", \\n              zip_iter=third_zip, \\n              x_train_raw=x_train_raw_light, x_train_numerical=x_train_numerical_light, \\n              x_test_raw=x_test_raw_light, x_test_numerical=x_test_numerical_light, \\n              y_train=y_train, y_test=y_test, \\n              features_numerical=features_light, \\n              exp_name=third_exp, info_text=third_info)'"
      ]
     },
     "execution_count": 28,
     "metadata": {},
     "output_type": "execute_result"
    }
   ],
   "source": [
    "third_exp = \"PSP_3b_HP-tune_w/_class_weights\"\n",
    "third_info = \"3. Training of models WITH hyperparameter tuning & w/ REDUCED features set \"\n",
    "\"\"\"hp_tune_model(search_mode=\"random\", \n",
    "              zip_iter=third_zip, \n",
    "              x_train_raw=x_train_raw_light, x_train_numerical=x_train_numerical_light, \n",
    "              x_test_raw=x_test_raw_light, x_test_numerical=x_test_numerical_light, \n",
    "              y_train=y_train, y_test=y_test, \n",
    "              features_numerical=features_light, \n",
    "              exp_name=third_exp, info_text=third_info)\"\"\""
   ]
  },
  {
   "cell_type": "markdown",
   "id": "1cb47337-2da2-4833-b930-15bf7ee74e95",
   "metadata": {},
   "source": [
    "# Modeling no. 4: Fine-tuning of Top2-models via GridSearch & pick best"
   ]
  },
  {
   "cell_type": "code",
   "execution_count": 29,
   "id": "7155e53b-2257-43d1-9493-0d09c09350cf",
   "metadata": {},
   "outputs": [
    {
     "name": "stdout",
     "output_type": "stream",
     "text": [
      "length of clf_names 2 & clf 2 & parameters 2 & feat_mode 2\n"
     ]
    }
   ],
   "source": [
    "# collect all models\n",
    "# names\n",
    "fourth_clf_names = [\"Random Forest\", \"Extra Trees\"]\n",
    "\n",
    "# configure parameters per model\n",
    "hp_fine_rf = {\"max_depth\": np.arange(25, 45, 1)}\n",
    "hp_fine_extra = {\"max_depth\": np.arange(5, 20, 1)}\n",
    "\n",
    "# parameters collected\n",
    "fourth_params = [hp_fine_rf, hp_fine_extra]\n",
    "\n",
    "# sklearn models\n",
    "fourth_clf = [RandomForestClassifier(class_weight=\"balanced_subsample\", \n",
    "                                     bootstrap=True, n_estimators=130,\n",
    "                                     min_samples_split=2, min_samples_leaf=29,\n",
    "                                     criterion=\"log_loss\", max_features=\"sqrt\", \n",
    "                                     random_state=rs), \n",
    "              ExtraTreesClassifier(class_weight=\"balanced_subsample\", criterion=\"gini\", \n",
    "                                   min_samples_split=32, min_samples_leaf=7, \n",
    "                                   max_features=\"sqrt\", min_weight_fraction_leaf=0, \n",
    "                                   bootstrap=True, random_state=rs)]\n",
    "\n",
    "# feature mode for model\n",
    "fourth_feat_mode = [\"numeric\", \"numeric\"]\n",
    "\n",
    "fourth_zip = zip(fourth_clf_names, fourth_clf, fourth_params, fourth_feat_mode)\n",
    "print(f\"length of clf_names {len(fourth_clf_names)} & clf {len(fourth_clf)} & parameters {len(fourth_params)} & feat_mode {len(fourth_feat_mode)}\")"
   ]
  },
  {
   "cell_type": "code",
   "execution_count": 30,
   "id": "45f67338-7346-46eb-a684-aaca1d311a00",
   "metadata": {},
   "outputs": [
    {
     "data": {
      "text/plain": [
       "'hp_tune_model(search_mode=\"grid\", \\n              zip_iter=fourth_zip, \\n              x_train_raw=x_train_raw_light, x_train_numerical=x_train_numerical_light, \\n              x_test_raw=x_test_raw_light, x_test_numerical=x_test_numerical_light, \\n              y_train=y_train, y_test=y_test, \\n              features_numerical=features_light, \\n              exp_name=fourth_exp, info_text=fourth_info)'"
      ]
     },
     "execution_count": 30,
     "metadata": {},
     "output_type": "execute_result"
    }
   ],
   "source": [
    "fourth_exp = \"PSP_4b_finetune_w/_class_weights\"\n",
    "fourth_info = \"4. Training of models WITH hyperparameter tuning & w/ REDUCED features set \"\n",
    "\"\"\"hp_tune_model(search_mode=\"grid\", \n",
    "              zip_iter=fourth_zip, \n",
    "              x_train_raw=x_train_raw_light, x_train_numerical=x_train_numerical_light, \n",
    "              x_test_raw=x_test_raw_light, x_test_numerical=x_test_numerical_light, \n",
    "              y_train=y_train, y_test=y_test, \n",
    "              features_numerical=features_light, \n",
    "              exp_name=fourth_exp, info_text=fourth_info)\"\"\""
   ]
  },
  {
   "cell_type": "markdown",
   "id": "aa1b5a8a-e47f-4ac6-b7a2-5962ba9cf966",
   "metadata": {},
   "source": [
    "> Random Forest with best performance"
   ]
  },
  {
   "cell_type": "code",
   "execution_count": 31,
   "id": "a7b9136a-e367-4566-810d-bfb508daa14b",
   "metadata": {},
   "outputs": [],
   "source": [
    "logged_model = \"runs:/56c67ee16bec42f0a1bf72135dad4df9/model_saved\"\n",
    "\n",
    "# Load model as a sklearn-model.\n",
    "best_model = mlflow.sklearn.load_model(logged_model)"
   ]
  },
  {
   "cell_type": "markdown",
   "id": "edfbe730-e2a5-4d7b-a401-167bd7ee6f56",
   "metadata": {},
   "source": [
    "# Evaluate selected model"
   ]
  },
  {
   "cell_type": "markdown",
   "id": "19d61789-51a6-4a48-804a-01fd9c85f302",
   "metadata": {},
   "source": [
    "## ROC & AUC of selected model"
   ]
  },
  {
   "cell_type": "code",
   "execution_count": 42,
   "id": "8925ece9-7fdd-4eee-beee-f385c6ec6298",
   "metadata": {},
   "outputs": [
    {
     "data": {
      "image/png": "[encoded data removed]",
      "text/plain": [
       "<Figure size 700x500 with 1 Axes>"
      ]
     },
     "metadata": {},
     "output_type": "display_data"
    }
   ],
   "source": [
    "y_pred = best_model.predict(x_test_numerical_light)\n",
    "y_pred_probs = best_model.predict_proba(x_test_numerical_light)[:, 1]\n",
    "\n",
    "# calculate ROC\n",
    "fpr, tpr, _ = roc_curve(y_test, y_pred_probs)\n",
    "# calculate AUC\n",
    "auc = roc_auc_score(y_test, y_pred_probs)\n",
    "\n",
    "# No SKILL-baseline: generate a no skill prediction \n",
    "ns_probs = [0 for _ in range(len(y_test))]\n",
    "ns_auc = roc_auc_score(y_test, ns_probs)\n",
    "ns_fpr, ns_tpr, _ = roc_curve(y_test, ns_probs)\n",
    "\n",
    "plt.figure(figsize=(plot_width-5, plot_height-3))\n",
    "# plot the roc curve for the model\n",
    "plt.plot(ns_fpr, ns_tpr, linestyle='--', label=(f\"No Skill with {ns_auc:.3f}\"))\n",
    "plt.plot(fpr, tpr, marker='.', label=(f\"Random Forest with {auc:.3f}\"))\n",
    "# axis labels\n",
    "plt.xlabel('False Positive Rate')\n",
    "plt.ylabel('True Positive Rate')\n",
    "plt.legend()\n",
    "plt.savefig(\"../reports/figures/7-1_roc_curve.png\")\n",
    "plt.show()\n",
    "plt.close()"
   ]
  },
  {
   "cell_type": "markdown",
   "id": "6d49ed10-b857-4dd6-9dc7-c3fff009af09",
   "metadata": {},
   "source": [
    "## AUC per PSP\n",
    "Da wir letztendlich die Entscheidung über den PSP nicht dem Modell mittels Schweelwert überlassen, sondern eher am Vergleich der Wahrscheinlichkeiten interessiert sind, sollte die Performance in definierten Bereichen auch nur über den AUC überprüft werden."
   ]
  },
  {
   "cell_type": "code",
   "execution_count": 33,
   "id": "0a21ae1c-020d-4291-85b5-67cb1c565dea",
   "metadata": {},
   "outputs": [],
   "source": [
    "# list with PSPs and respective costs\n",
    "df_psp_cost = (pd.read_excel(\"../data/04_processed/df_cost_in.xlsx\", sheet_name=\"df_cost_in\")\n",
    "          .drop(columns=[\"Unnamed: 0\"]))\n",
    "#df_psp_cost"
   ]
  },
  {
   "cell_type": "code",
   "execution_count": 34,
   "id": "b0152ffe-a43c-46cf-a98b-0135a8fe7067",
   "metadata": {},
   "outputs": [],
   "source": [
    "# all PSPs\n",
    "list_psp = df_psp_cost[\"PSP_name\"].to_list()\n",
    "dict_psp_auc = dict()\n",
    "dict_psp_count = dict()\n",
    "\n",
    "for p in list_psp:\n",
    "    # search column for PSP in features\n",
    "    col_idx = [list(features_light).index(i) for i in features_light if (i.find(p)!=-1)][0]\n",
    "    filter_psp = (x_test_numerical_light[:, col_idx] == 1) # filter for 1 in col\n",
    "    \n",
    "    count = y_pred_probs[filter_psp].shape[0] # count no. of data points\n",
    "    dict_psp_count[p] = count\n",
    "    \n",
    "    # calculate AUC\n",
    "    auc = roc_auc_score(y_test[filter_psp], y_pred_probs[filter_psp])\n",
    "    dict_psp_auc[p] = auc"
   ]
  },
  {
   "cell_type": "code",
   "execution_count": 35,
   "id": "ab0cc1b4-ac2d-45db-95f8-9fb8ddfa1023",
   "metadata": {},
   "outputs": [
    {
     "data": {
      "image/png": "[encoded data removed]",
      "text/plain": [
       "<Figure size 700x700 with 2 Axes>"
      ]
     },
     "metadata": {},
     "output_type": "display_data"
    }
   ],
   "source": [
    "fig, axs = plt.subplots(2,1, figsize=(plot_width-5, plot_height-1), sharex=True, tight_layout=True)\n",
    "g0 = sns.barplot(x=list(dict_psp_count.keys()), y=list(dict_psp_count.values()), color=color_pal[0], ax=axs[0])\n",
    "axs[0].set_title(\"Data points in test set\")\n",
    "axs[0].set(ylabel=\"Count\")\n",
    "\n",
    "g1 = sns.barplot(x=list(dict_psp_auc.keys()), y=list(dict_psp_auc.values()), color=color_pal[1], ax=axs[1])\n",
    "axs[1].set_title(\"AUC on test data\")\n",
    "for i in g1.containers:\n",
    "    g1.bar_label(i, fmt=\"%.2f\")\n",
    "axs[1].set(ylabel=\"AUC\")\n",
    "\n",
    "plt.suptitle(\"Evaluate performance per PSP\")\n",
    "plt.savefig(\"../reports/figures/7-2_auc_psp.png\")\n",
    "plt.show()\n",
    "plt.close()"
   ]
  },
  {
   "cell_type": "markdown",
   "id": "9b64a986-275b-4016-a1d3-38833153fef6",
   "metadata": {},
   "source": [
    "## AUC for amounts"
   ]
  },
  {
   "cell_type": "code",
   "execution_count": 43,
   "id": "9a399784-bb7e-43ba-ac9e-b40d237cfcb8",
   "metadata": {},
   "outputs": [],
   "source": [
    "amount_classes = np.arange(0, 1.1, 0.25)\n",
    "# search column for amount in features\n",
    "col_idx = [list(features_light).index(i) for i in features_light if (i.find(\"amount\")!=-1)][0]\n",
    "\n",
    "# collect results\n",
    "dict_amount_auc = dict()\n",
    "dict_amount_count = dict()\n",
    "dict_amount_avg = dict()\n",
    "dict_amount_accuracy = dict()\n",
    "dict_amount_f1 = dict()\n",
    "\n",
    "for idx, val in enumerate(amount_classes):\n",
    "    if idx+1 < len(amount_classes):\n",
    "        # create filter for class\n",
    "        filter_amount = (x_test_numerical_light[:, col_idx] > val) & (x_test_numerical_light[:, col_idx] <= amount_classes[idx+1])\n",
    "        x_key = amount_classes[idx+1]\n",
    "\n",
    "        count = y_pred_probs[filter_amount].shape[0] # count no. of data points\n",
    "        dict_amount_count[x_key] = count\n",
    "        \n",
    "        auc = roc_auc_score(y_test[filter_amount], y_pred_probs[filter_amount])\n",
    "        dict_amount_auc[x_key] = auc\n",
    "\n",
    "        avg_prob = np.mean(y_pred_probs[filter_amount]) # average probability\n",
    "        dict_amount_avg[x_key] = avg_prob\n",
    "\n",
    "        accuracy = accuracy_score(y_test[filter_amount], y_pred[filter_amount])\n",
    "        dict_amount_accuracy[x_key] = accuracy\n",
    "\n",
    "        f1 = f1_score(y_test[filter_amount], y_pred[filter_amount])\n",
    "        dict_amount_f1[x_key] = f1"
   ]
  },
  {
   "cell_type": "code",
   "execution_count": 46,
   "id": "a4470b4f-0e58-477d-98a8-d5307eedf2d7",
   "metadata": {},
   "outputs": [
    {
     "data": {
      "image/png": "[encoded data removed]",
      "text/plain": [
       "<Figure size 700x800 with 4 Axes>"
      ]
     },
     "metadata": {},
     "output_type": "display_data"
    }
   ],
   "source": [
    "fig, axs = plt.subplots(4,1, figsize=(plot_width-5, plot_height), sharex=True, tight_layout=True)\n",
    "g0 = sns.barplot(x=list(dict_amount_count.keys()), y=list(dict_amount_count.values()), color=color_pal[0], ax=axs[0])\n",
    "axs[0].set_title(\"Data points in test set\")\n",
    "axs[0].set(ylabel=\"Count\")\n",
    "\n",
    "g1 = sns.barplot(x=list(dict_amount_auc.keys()), y=list(dict_amount_auc.values()), color=color_pal[1], ax=axs[1])\n",
    "axs[1].set_title(\"AUC on test data\")\n",
    "for i in g1.containers:\n",
    "    g1.bar_label(i, fmt=\"%.2f\")\n",
    "axs[1].set(ylabel=\"AUC\")\n",
    "\n",
    "g2 = sns.barplot(x=list(dict_amount_avg.keys()), y=list(dict_amount_avg.values()), color=color_pal[3], ax=axs[2])\n",
    "axs[2].set_title(\"Average probability for success (uncalibrated)\")\n",
    "axs[2].set(ylabel=\"Avg. probability\")\n",
    "\n",
    "g3= sns.barplot(x=list(dict_amount_f1.keys()), y=list(dict_amount_f1.values()), color=color_pal[4], ax=axs[3])\n",
    "axs[3].set_title(\"F1-score on test set\")\n",
    "axs[3].set(ylabel=\"F1-score\")\n",
    "\n",
    "plt.xlabel(\"amount class (scaled from 0 to 1)\")\n",
    "plt.suptitle(\"Evaluate performance per amount class (scaled from 0 to 1)\")\n",
    "plt.savefig(\"../reports/figures/7-3_amount.png\")\n",
    "plt.show()\n",
    "plt.close()"
   ]
  },
  {
   "cell_type": "markdown",
   "id": "6bb00f41-1ecd-4559-9c83-19fc25a453a7",
   "metadata": {},
   "source": [
    "# Probability calibration of Random Forest\n",
    "https://scikit-learn.org/stable/auto_examples/calibration/plot_calibration_curve.html<br>\n",
    "https://dataisblue.io/python/data_science/2020/02/16/calibrating-random-forest.html"
   ]
  },
  {
   "cell_type": "code",
   "execution_count": 38,
   "id": "c5c4141e-e837-4333-b8da-64ee83d3da09",
   "metadata": {},
   "outputs": [
    {
     "data": {
      "text/html": [
       "<style>#sk-container-id-1 {\n",
       "  /* Definition of color scheme common for light and dark mode */\n",
       "  --sklearn-color-text: black;\n",
       "  --sklearn-color-line: gray;\n",
       "  /* Definition of color scheme for unfitted estimators */\n",
       "  --sklearn-color-unfitted-level-0: #fff5e6;\n",
       "  --sklearn-color-unfitted-level-1: #f6e4d2;\n",
       "  --sklearn-color-unfitted-level-2: #ffe0b3;\n",
       "  --sklearn-color-unfitted-level-3: chocolate;\n",
       "  /* Definition of color scheme for fitted estimators */\n",
       "  --sklearn-color-fitted-level-0: #f0f8ff;\n",
       "  --sklearn-color-fitted-level-1: #d4ebff;\n",
       "  --sklearn-color-fitted-level-2: #b3dbfd;\n",
       "  --sklearn-color-fitted-level-3: cornflowerblue;\n",
       "\n",
       "  /* Specific color for light theme */\n",
       "  --sklearn-color-text-on-default-background: var(--sg-text-color, var(--theme-code-foreground, var(--jp-content-font-color1, black)));\n",
       "  --sklearn-color-background: var(--sg-background-color, var(--theme-background, var(--jp-layout-color0, white)));\n",
       "  --sklearn-color-border-box: var(--sg-text-color, var(--theme-code-foreground, var(--jp-content-font-color1, black)));\n",
       "  --sklearn-color-icon: #696969;\n",
       "\n",
       "  @media (prefers-color-scheme: dark) {\n",
       "    /* Redefinition of color scheme for dark theme */\n",
       "    --sklearn-color-text-on-default-background: var(--sg-text-color, var(--theme-code-foreground, var(--jp-content-font-color1, white)));\n",
       "    --sklearn-color-background: var(--sg-background-color, var(--theme-background, var(--jp-layout-color0, #111)));\n",
       "    --sklearn-color-border-box: var(--sg-text-color, var(--theme-code-foreground, var(--jp-content-font-color1, white)));\n",
       "    --sklearn-color-icon: #878787;\n",
       "  }\n",
       "}\n",
       "\n",
       "#sk-container-id-1 {\n",
       "  color: var(--sklearn-color-text);\n",
       "}\n",
       "\n",
       "#sk-container-id-1 pre {\n",
       "  padding: 0;\n",
       "}\n",
       "\n",
       "#sk-container-id-1 input.sk-hidden--visually {\n",
       "  border: 0;\n",
       "  clip: rect(1px 1px 1px 1px);\n",
       "  clip: rect(1px, 1px, 1px, 1px);\n",
       "  height: 1px;\n",
       "  margin: -1px;\n",
       "  overflow: hidden;\n",
       "  padding: 0;\n",
       "  position: absolute;\n",
       "  width: 1px;\n",
       "}\n",
       "\n",
       "#sk-container-id-1 div.sk-dashed-wrapped {\n",
       "  border: 1px dashed var(--sklearn-color-line);\n",
       "  margin: 0 0.4em 0.5em 0.4em;\n",
       "  box-sizing: border-box;\n",
       "  padding-bottom: 0.4em;\n",
       "  background-color: var(--sklearn-color-background);\n",
       "}\n",
       "\n",
       "#sk-container-id-1 div.sk-container {\n",
       "  /* jupyter's `normalize.less` sets `[hidden] { display: none; }`\n",
       "     but bootstrap.min.css set `[hidden] { display: none !important; }`\n",
       "     so we also need the `!important` here to be able to override the\n",
       "     default hidden behavior on the sphinx rendered scikit-learn.org.\n",
       "     See: https://github.com/scikit-learn/scikit-learn/issues/21755 */\n",
       "  display: inline-block !important;\n",
       "  position: relative;\n",
       "}\n",
       "\n",
       "#sk-container-id-1 div.sk-text-repr-fallback {\n",
       "  display: none;\n",
       "}\n",
       "\n",
       "div.sk-parallel-item,\n",
       "div.sk-serial,\n",
       "div.sk-item {\n",
       "  /* draw centered vertical line to link estimators */\n",
       "  background-image: linear-gradient(var(--sklearn-color-text-on-default-background), var(--sklearn-color-text-on-default-background));\n",
       "  background-size: 2px 100%;\n",
       "  background-repeat: no-repeat;\n",
       "  background-position: center center;\n",
       "}\n",
       "\n",
       "/* Parallel-specific style estimator block */\n",
       "\n",
       "#sk-container-id-1 div.sk-parallel-item::after {\n",
       "  content: \"\";\n",
       "  width: 100%;\n",
       "  border-bottom: 2px solid var(--sklearn-color-text-on-default-background);\n",
       "  flex-grow: 1;\n",
       "}\n",
       "\n",
       "#sk-container-id-1 div.sk-parallel {\n",
       "  display: flex;\n",
       "  align-items: stretch;\n",
       "  justify-content: center;\n",
       "  background-color: var(--sklearn-color-background);\n",
       "  position: relative;\n",
       "}\n",
       "\n",
       "#sk-container-id-1 div.sk-parallel-item {\n",
       "  display: flex;\n",
       "  flex-direction: column;\n",
       "}\n",
       "\n",
       "#sk-container-id-1 div.sk-parallel-item:first-child::after {\n",
       "  align-self: flex-end;\n",
       "  width: 50%;\n",
       "}\n",
       "\n",
       "#sk-container-id-1 div.sk-parallel-item:last-child::after {\n",
       "  align-self: flex-start;\n",
       "  width: 50%;\n",
       "}\n",
       "\n",
       "#sk-container-id-1 div.sk-parallel-item:only-child::after {\n",
       "  width: 0;\n",
       "}\n",
       "\n",
       "/* Serial-specific style estimator block */\n",
       "\n",
       "#sk-container-id-1 div.sk-serial {\n",
       "  display: flex;\n",
       "  flex-direction: column;\n",
       "  align-items: center;\n",
       "  background-color: var(--sklearn-color-background);\n",
       "  padding-right: 1em;\n",
       "  padding-left: 1em;\n",
       "}\n",
       "\n",
       "\n",
       "/* Toggleable style: style used for estimator/Pipeline/ColumnTransformer box that is\n",
       "clickable and can be expanded/collapsed.\n",
       "- Pipeline and ColumnTransformer use this feature and define the default style\n",
       "- Estimators will overwrite some part of the style using the `sk-estimator` class\n",
       "*/\n",
       "\n",
       "/* Pipeline and ColumnTransformer style (default) */\n",
       "\n",
       "#sk-container-id-1 div.sk-toggleable {\n",
       "  /* Default theme specific background. It is overwritten whether we have a\n",
       "  specific estimator or a Pipeline/ColumnTransformer */\n",
       "  background-color: var(--sklearn-color-background);\n",
       "}\n",
       "\n",
       "/* Toggleable label */\n",
       "#sk-container-id-1 label.sk-toggleable__label {\n",
       "  cursor: pointer;\n",
       "  display: block;\n",
       "  width: 100%;\n",
       "  margin-bottom: 0;\n",
       "  padding: 0.5em;\n",
       "  box-sizing: border-box;\n",
       "  text-align: center;\n",
       "}\n",
       "\n",
       "#sk-container-id-1 label.sk-toggleable__label-arrow:before {\n",
       "  /* Arrow on the left of the label */\n",
       "  content: \"▸\";\n",
       "  float: left;\n",
       "  margin-right: 0.25em;\n",
       "  color: var(--sklearn-color-icon);\n",
       "}\n",
       "\n",
       "#sk-container-id-1 label.sk-toggleable__label-arrow:hover:before {\n",
       "  color: var(--sklearn-color-text);\n",
       "}\n",
       "\n",
       "/* Toggleable content - dropdown */\n",
       "\n",
       "#sk-container-id-1 div.sk-toggleable__content {\n",
       "  max-height: 0;\n",
       "  max-width: 0;\n",
       "  overflow: hidden;\n",
       "  text-align: left;\n",
       "  /* unfitted */\n",
       "  background-color: var(--sklearn-color-unfitted-level-0);\n",
       "}\n",
       "\n",
       "#sk-container-id-1 div.sk-toggleable__content.fitted {\n",
       "  /* fitted */\n",
       "  background-color: var(--sklearn-color-fitted-level-0);\n",
       "}\n",
       "\n",
       "#sk-container-id-1 div.sk-toggleable__content pre {\n",
       "  margin: 0.2em;\n",
       "  border-radius: 0.25em;\n",
       "  color: var(--sklearn-color-text);\n",
       "  /* unfitted */\n",
       "  background-color: var(--sklearn-color-unfitted-level-0);\n",
       "}\n",
       "\n",
       "#sk-container-id-1 div.sk-toggleable__content.fitted pre {\n",
       "  /* unfitted */\n",
       "  background-color: var(--sklearn-color-fitted-level-0);\n",
       "}\n",
       "\n",
       "#sk-container-id-1 input.sk-toggleable__control:checked~div.sk-toggleable__content {\n",
       "  /* Expand drop-down */\n",
       "  max-height: 200px;\n",
       "  max-width: 100%;\n",
       "  overflow: auto;\n",
       "}\n",
       "\n",
       "#sk-container-id-1 input.sk-toggleable__control:checked~label.sk-toggleable__label-arrow:before {\n",
       "  content: \"▾\";\n",
       "}\n",
       "\n",
       "/* Pipeline/ColumnTransformer-specific style */\n",
       "\n",
       "#sk-container-id-1 div.sk-label input.sk-toggleable__control:checked~label.sk-toggleable__label {\n",
       "  color: var(--sklearn-color-text);\n",
       "  background-color: var(--sklearn-color-unfitted-level-2);\n",
       "}\n",
       "\n",
       "#sk-container-id-1 div.sk-label.fitted input.sk-toggleable__control:checked~label.sk-toggleable__label {\n",
       "  background-color: var(--sklearn-color-fitted-level-2);\n",
       "}\n",
       "\n",
       "/* Estimator-specific style */\n",
       "\n",
       "/* Colorize estimator box */\n",
       "#sk-container-id-1 div.sk-estimator input.sk-toggleable__control:checked~label.sk-toggleable__label {\n",
       "  /* unfitted */\n",
       "  background-color: var(--sklearn-color-unfitted-level-2);\n",
       "}\n",
       "\n",
       "#sk-container-id-1 div.sk-estimator.fitted input.sk-toggleable__control:checked~label.sk-toggleable__label {\n",
       "  /* fitted */\n",
       "  background-color: var(--sklearn-color-fitted-level-2);\n",
       "}\n",
       "\n",
       "#sk-container-id-1 div.sk-label label.sk-toggleable__label,\n",
       "#sk-container-id-1 div.sk-label label {\n",
       "  /* The background is the default theme color */\n",
       "  color: var(--sklearn-color-text-on-default-background);\n",
       "}\n",
       "\n",
       "/* On hover, darken the color of the background */\n",
       "#sk-container-id-1 div.sk-label:hover label.sk-toggleable__label {\n",
       "  color: var(--sklearn-color-text);\n",
       "  background-color: var(--sklearn-color-unfitted-level-2);\n",
       "}\n",
       "\n",
       "/* Label box, darken color on hover, fitted */\n",
       "#sk-container-id-1 div.sk-label.fitted:hover label.sk-toggleable__label.fitted {\n",
       "  color: var(--sklearn-color-text);\n",
       "  background-color: var(--sklearn-color-fitted-level-2);\n",
       "}\n",
       "\n",
       "/* Estimator label */\n",
       "\n",
       "#sk-container-id-1 div.sk-label label {\n",
       "  font-family: monospace;\n",
       "  font-weight: bold;\n",
       "  display: inline-block;\n",
       "  line-height: 1.2em;\n",
       "}\n",
       "\n",
       "#sk-container-id-1 div.sk-label-container {\n",
       "  text-align: center;\n",
       "}\n",
       "\n",
       "/* Estimator-specific */\n",
       "#sk-container-id-1 div.sk-estimator {\n",
       "  font-family: monospace;\n",
       "  border: 1px dotted var(--sklearn-color-border-box);\n",
       "  border-radius: 0.25em;\n",
       "  box-sizing: border-box;\n",
       "  margin-bottom: 0.5em;\n",
       "  /* unfitted */\n",
       "  background-color: var(--sklearn-color-unfitted-level-0);\n",
       "}\n",
       "\n",
       "#sk-container-id-1 div.sk-estimator.fitted {\n",
       "  /* fitted */\n",
       "  background-color: var(--sklearn-color-fitted-level-0);\n",
       "}\n",
       "\n",
       "/* on hover */\n",
       "#sk-container-id-1 div.sk-estimator:hover {\n",
       "  /* unfitted */\n",
       "  background-color: var(--sklearn-color-unfitted-level-2);\n",
       "}\n",
       "\n",
       "#sk-container-id-1 div.sk-estimator.fitted:hover {\n",
       "  /* fitted */\n",
       "  background-color: var(--sklearn-color-fitted-level-2);\n",
       "}\n",
       "\n",
       "/* Specification for estimator info (e.g. \"i\" and \"?\") */\n",
       "\n",
       "/* Common style for \"i\" and \"?\" */\n",
       "\n",
       ".sk-estimator-doc-link,\n",
       "a:link.sk-estimator-doc-link,\n",
       "a:visited.sk-estimator-doc-link {\n",
       "  float: right;\n",
       "  font-size: smaller;\n",
       "  line-height: 1em;\n",
       "  font-family: monospace;\n",
       "  background-color: var(--sklearn-color-background);\n",
       "  border-radius: 1em;\n",
       "  height: 1em;\n",
       "  width: 1em;\n",
       "  text-decoration: none !important;\n",
       "  margin-left: 1ex;\n",
       "  /* unfitted */\n",
       "  border: var(--sklearn-color-unfitted-level-1) 1pt solid;\n",
       "  color: var(--sklearn-color-unfitted-level-1);\n",
       "}\n",
       "\n",
       ".sk-estimator-doc-link.fitted,\n",
       "a:link.sk-estimator-doc-link.fitted,\n",
       "a:visited.sk-estimator-doc-link.fitted {\n",
       "  /* fitted */\n",
       "  border: var(--sklearn-color-fitted-level-1) 1pt solid;\n",
       "  color: var(--sklearn-color-fitted-level-1);\n",
       "}\n",
       "\n",
       "/* On hover */\n",
       "div.sk-estimator:hover .sk-estimator-doc-link:hover,\n",
       ".sk-estimator-doc-link:hover,\n",
       "div.sk-label-container:hover .sk-estimator-doc-link:hover,\n",
       ".sk-estimator-doc-link:hover {\n",
       "  /* unfitted */\n",
       "  background-color: var(--sklearn-color-unfitted-level-3);\n",
       "  color: var(--sklearn-color-background);\n",
       "  text-decoration: none;\n",
       "}\n",
       "\n",
       "div.sk-estimator.fitted:hover .sk-estimator-doc-link.fitted:hover,\n",
       ".sk-estimator-doc-link.fitted:hover,\n",
       "div.sk-label-container:hover .sk-estimator-doc-link.fitted:hover,\n",
       ".sk-estimator-doc-link.fitted:hover {\n",
       "  /* fitted */\n",
       "  background-color: var(--sklearn-color-fitted-level-3);\n",
       "  color: var(--sklearn-color-background);\n",
       "  text-decoration: none;\n",
       "}\n",
       "\n",
       "/* Span, style for the box shown on hovering the info icon */\n",
       ".sk-estimator-doc-link span {\n",
       "  display: none;\n",
       "  z-index: 9999;\n",
       "  position: relative;\n",
       "  font-weight: normal;\n",
       "  right: .2ex;\n",
       "  padding: .5ex;\n",
       "  margin: .5ex;\n",
       "  width: min-content;\n",
       "  min-width: 20ex;\n",
       "  max-width: 50ex;\n",
       "  color: var(--sklearn-color-text);\n",
       "  box-shadow: 2pt 2pt 4pt #999;\n",
       "  /* unfitted */\n",
       "  background: var(--sklearn-color-unfitted-level-0);\n",
       "  border: .5pt solid var(--sklearn-color-unfitted-level-3);\n",
       "}\n",
       "\n",
       ".sk-estimator-doc-link.fitted span {\n",
       "  /* fitted */\n",
       "  background: var(--sklearn-color-fitted-level-0);\n",
       "  border: var(--sklearn-color-fitted-level-3);\n",
       "}\n",
       "\n",
       ".sk-estimator-doc-link:hover span {\n",
       "  display: block;\n",
       "}\n",
       "\n",
       "/* \"?\"-specific style due to the `<a>` HTML tag */\n",
       "\n",
       "#sk-container-id-1 a.estimator_doc_link {\n",
       "  float: right;\n",
       "  font-size: 1rem;\n",
       "  line-height: 1em;\n",
       "  font-family: monospace;\n",
       "  background-color: var(--sklearn-color-background);\n",
       "  border-radius: 1rem;\n",
       "  height: 1rem;\n",
       "  width: 1rem;\n",
       "  text-decoration: none;\n",
       "  /* unfitted */\n",
       "  color: var(--sklearn-color-unfitted-level-1);\n",
       "  border: var(--sklearn-color-unfitted-level-1) 1pt solid;\n",
       "}\n",
       "\n",
       "#sk-container-id-1 a.estimator_doc_link.fitted {\n",
       "  /* fitted */\n",
       "  border: var(--sklearn-color-fitted-level-1) 1pt solid;\n",
       "  color: var(--sklearn-color-fitted-level-1);\n",
       "}\n",
       "\n",
       "/* On hover */\n",
       "#sk-container-id-1 a.estimator_doc_link:hover {\n",
       "  /* unfitted */\n",
       "  background-color: var(--sklearn-color-unfitted-level-3);\n",
       "  color: var(--sklearn-color-background);\n",
       "  text-decoration: none;\n",
       "}\n",
       "\n",
       "#sk-container-id-1 a.estimator_doc_link.fitted:hover {\n",
       "  /* fitted */\n",
       "  background-color: var(--sklearn-color-fitted-level-3);\n",
       "}\n",
       "</style><div id=\"sk-container-id-1\" class=\"sk-top-container\"><div class=\"sk-text-repr-fallback\"><pre>CalibratedClassifierCV(cv=5,\n",
       "                       estimator=RandomForestClassifier(class_weight=&#x27;balanced_subsample&#x27;,\n",
       "                                                        criterion=&#x27;log_loss&#x27;,\n",
       "                                                        max_depth=35,\n",
       "                                                        min_samples_leaf=29,\n",
       "                                                        n_estimators=130,\n",
       "                                                        random_state=23))</pre><b>In a Jupyter environment, please rerun this cell to show the HTML representation or trust the notebook. <br />On GitHub, the HTML representation is unable to render, please try loading this page with nbviewer.org.</b></div><div class=\"sk-container\" hidden><div class=\"sk-item sk-dashed-wrapped\"><div class=\"sk-label-container\"><div class=\"sk-label fitted sk-toggleable\"><input class=\"sk-toggleable__control sk-hidden--visually\" id=\"sk-estimator-id-1\" type=\"checkbox\" ><label for=\"sk-estimator-id-1\" class=\"sk-toggleable__label fitted sk-toggleable__label-arrow fitted\">&nbsp;&nbsp;CalibratedClassifierCV<a class=\"sk-estimator-doc-link fitted\" rel=\"noreferrer\" target=\"_blank\" href=\"https://scikit-learn.org/1.4/modules/generated/sklearn.calibration.CalibratedClassifierCV.html\">?<span>Documentation for CalibratedClassifierCV</span></a><span class=\"sk-estimator-doc-link fitted\">i<span>Fitted</span></span></label><div class=\"sk-toggleable__content fitted\"><pre>CalibratedClassifierCV(cv=5,\n",
       "                       estimator=RandomForestClassifier(class_weight=&#x27;balanced_subsample&#x27;,\n",
       "                                                        criterion=&#x27;log_loss&#x27;,\n",
       "                                                        max_depth=35,\n",
       "                                                        min_samples_leaf=29,\n",
       "                                                        n_estimators=130,\n",
       "                                                        random_state=23))</pre></div> </div></div><div class=\"sk-parallel\"><div class=\"sk-parallel-item\"><div class=\"sk-item\"><div class=\"sk-label-container\"><div class=\"sk-label fitted sk-toggleable\"><input class=\"sk-toggleable__control sk-hidden--visually\" id=\"sk-estimator-id-2\" type=\"checkbox\" ><label for=\"sk-estimator-id-2\" class=\"sk-toggleable__label fitted sk-toggleable__label-arrow fitted\">estimator: RandomForestClassifier</label><div class=\"sk-toggleable__content fitted\"><pre>RandomForestClassifier(class_weight=&#x27;balanced_subsample&#x27;, criterion=&#x27;log_loss&#x27;,\n",
       "                       max_depth=35, min_samples_leaf=29, n_estimators=130,\n",
       "                       random_state=23)</pre></div> </div></div><div class=\"sk-serial\"><div class=\"sk-item\"><div class=\"sk-estimator fitted sk-toggleable\"><input class=\"sk-toggleable__control sk-hidden--visually\" id=\"sk-estimator-id-3\" type=\"checkbox\" ><label for=\"sk-estimator-id-3\" class=\"sk-toggleable__label fitted sk-toggleable__label-arrow fitted\">&nbsp;RandomForestClassifier<a class=\"sk-estimator-doc-link fitted\" rel=\"noreferrer\" target=\"_blank\" href=\"https://scikit-learn.org/1.4/modules/generated/sklearn.ensemble.RandomForestClassifier.html\">?<span>Documentation for RandomForestClassifier</span></a></label><div class=\"sk-toggleable__content fitted\"><pre>RandomForestClassifier(class_weight=&#x27;balanced_subsample&#x27;, criterion=&#x27;log_loss&#x27;,\n",
       "                       max_depth=35, min_samples_leaf=29, n_estimators=130,\n",
       "                       random_state=23)</pre></div> </div></div></div></div></div></div></div></div></div>"
      ],
      "text/plain": [
       "CalibratedClassifierCV(cv=5,\n",
       "                       estimator=RandomForestClassifier(class_weight='balanced_subsample',\n",
       "                                                        criterion='log_loss',\n",
       "                                                        max_depth=35,\n",
       "                                                        min_samples_leaf=29,\n",
       "                                                        n_estimators=130,\n",
       "                                                        random_state=23))"
      ]
     },
     "execution_count": 38,
     "metadata": {},
     "output_type": "execute_result"
    }
   ],
   "source": [
    "rf_calib_iso = CalibratedClassifierCV(best_model, cv=5, method=\"isotonic\")\n",
    "rf_calib_iso.fit(x_train_numerical_light, y_train)\n",
    "rf_calib_sigm = CalibratedClassifierCV(best_model, cv=5, method=\"sigmoid\")\n",
    "rf_calib_sigm.fit(x_train_numerical_light, y_train)"
   ]
  },
  {
   "cell_type": "code",
   "execution_count": 47,
   "id": "ddf2a302-acb4-4ac3-8297-e8d16d46748e",
   "metadata": {},
   "outputs": [
    {
     "data": {
      "image/png": "[encoded data removed]",
      "text/plain": [
       "<Figure size 900x600 with 4 Axes>"
      ]
     },
     "metadata": {},
     "output_type": "display_data"
    }
   ],
   "source": [
    "model_list = [(best_model, \"Random Forest (uncalibrated)\"), \n",
    "              (rf_calib_iso, \"Random Forest (isotonic)\"), \n",
    "              (rf_calib_sigm, \"Random Forest (sigmoid)\")]\n",
    "\n",
    "fig = plt.figure(figsize=(plot_width-3, plot_height-2))\n",
    "gs = GridSpec(4, 2)\n",
    "ax_calibration_curve = fig.add_subplot(gs[:2, :2])\n",
    "dict_calib_displays = dict()\n",
    "dict_brier_scores = dict()\n",
    "\n",
    "for i, (model, name) in enumerate(model_list):\n",
    "    display = CalibrationDisplay.from_estimator(model, \n",
    "                                                x_test_numerical_light, y_test, \n",
    "                                                n_bins=10, \n",
    "                                                name=name, \n",
    "                                                ax=ax_calibration_curve,\n",
    "                                                color=color_pal[i])\n",
    "    dict_calib_displays[name] = display\n",
    "    # calculate Brier's score (mean squared error of predicted probabilities) -> smaller is better\n",
    "    pred = model.predict_proba(x_test_numerical_light)\n",
    "    score_brier = brier_score_loss(y_test, pred[:, 1])\n",
    "    dict_brier_scores[name] = score_brier\n",
    "    \n",
    "\n",
    "ax_calibration_curve.grid()\n",
    "ax_calibration_curve.set_title(\"Calibration plots\")\n",
    "\n",
    "# Add histogram\n",
    "grid_positions = [(2, 0), (2, 1), (3, 0), (3, 1)]\n",
    "for i, (_, name) in enumerate(model_list):\n",
    "    row, col = grid_positions[i]\n",
    "    ax = fig.add_subplot(gs[row, col])\n",
    "\n",
    "    ax.hist(\n",
    "        dict_calib_displays[name].y_prob,\n",
    "        range=(0, 1),\n",
    "        bins=10,\n",
    "        label=name ,\n",
    "        color=color_pal[i],\n",
    "    )\n",
    "    ax.set(title=(f\"{name} with Brier-score {dict_brier_scores[name]:.3f}\"), xlabel=\"Mean predicted probability\", ylabel=\"Count\")\n",
    "\n",
    "plt.tight_layout()\n",
    "plt.savefig(\"../reports/figures/8_calbration.png\")\n",
    "plt.show()\n",
    "plt.close()"
   ]
  },
  {
   "cell_type": "markdown",
   "id": "9a296b90-2274-4cdf-9db6-c5c62291f6d5",
   "metadata": {},
   "source": [
    "# Decision Function"
   ]
  },
  {
   "cell_type": "code",
   "execution_count": null,
   "id": "6f41b975-4f60-4fce-8465-cfd77b7a7730",
   "metadata": {},
   "outputs": [],
   "source": []
  }
 ],
 "metadata": {
  "kernelspec": {
   "display_name": "Python 3 (ipykernel)",
   "language": "python",
   "name": "python3"
  },
  "language_info": {
   "codemirror_mode": {
    "name": "ipython",
    "version": 3
   },
   "file_extension": ".py",
   "mimetype": "text/x-python",
   "name": "python",
   "nbconvert_exporter": "python",
   "pygments_lexer": "ipython3",
   "version": "3.12.2"
  }
 },
 "nbformat": 4,
 "nbformat_minor": 5
}
